{
  "cells": [
    {
      "cell_type": "markdown",
      "metadata": {},
      "source": [
        "\n\n# Player with annotations\n\n.. include:: ./../../links.inc\n\n:class:`~mne.Annotations` from a :class:`~mne.io.Raw` object can be streamed as an event\nstream by :class:`~mne_lsl.player.PlayerLSL`. The stream will be irregularly sampled,\nnumerical, and of type ``'annotations'``.\n\nA :class:`~mne.Annotations` contain 3 information:\n\n- the onset of the annotation\n- the duration of the annotation\n- the description of the annotation\n\nTo stream all 3 information, it's duration-hod encoded along the channels. For instance,\nconsider a :class:`~mne.io.Raw` object with 3 different :class:`~mne.Annotations`\ndescription: ``'event1'``, ``'event2'``, and ``'event3'``. The event stream will have 3\nchannels, each corresponding to one of the 3 descriptions. When an annotation is\nstreamed, it's duration is encoded as the value on its channel while the other channels\nremain to zero.\n"
      ]
    },
    {
      "cell_type": "code",
      "execution_count": null,
      "metadata": {
        "collapsed": false
      },
      "outputs": [],
      "source": [
        "import uuid\n\nimport matplotlib.patches as mpatches\nimport numpy as np\nfrom matplotlib import pyplot as plt\nfrom mne import Annotations, create_info\nfrom mne.io import RawArray\nfrom mne.viz import set_browser_backend\n\nfrom mne_lsl.player import PlayerLSL\nfrom mne_lsl.stream import StreamLSL\n\nannotations = Annotations(\n    onset=[1, 2, 3],\n    duration=[0.1, 0.2, 0.3],\n    description=[\"event1\", \"event2\", \"event3\"],\n)\nannotations"
      ]
    },
    {
      "cell_type": "markdown",
      "metadata": {},
      "source": [
        "With the 3 annotations above, the event stream will stream the following samples:\n\n- at time ``1``, the annotation ``'event1'`` is pushed. The sample push is\n  ``array([[0.1, 0, 0]])``, of shape (1, 3).\n- at time ``2``, the annotation ``'event2'`` is pushed. The sample push is\n  ``array([[0, 0.2, 0]])``, of shape (1, 3).\n- at time ``3``, the annotation ``'event3'`` is pushed. The sample push is\n  ``array([[0, 0, 0.3]])``, of shape (1, 3).\n\nIf more than one annotations are present in the chunk currently pushed, then a chunk\nis pushed. For instance, if the annotations at time ``2`` and ``3`` are pushed at the\nsame time, then the chunk push is ``array([[0., 0.2., 0.], [0., 0., 0.3]])``, of shape\n(2, 3).\n\n%%\nExample on mock signal\n----------------------\n\nLet's create a mock :class:`~mne.io.Raw` object with annotations and stream both the\nsignal and the annotations.\n\n"
      ]
    },
    {
      "cell_type": "code",
      "execution_count": null,
      "metadata": {
        "collapsed": false
      },
      "outputs": [],
      "source": [
        "data = np.zeros((1, 1000))  # 1 channel, 1000 samples\ndata[0, 100:200] = 1\ndata[0, 500:700] = 2\ninfo = create_info([\"signal\"], 1000, \"misc\")\nraw = RawArray(data, info)\nannotations = Annotations(onset=[0.1, 0.5], duration=[0.1, 0.2], description=[\"1\", \"2\"])\nraw.set_annotations(annotations)\nset_browser_backend(\"matplotlib\")  # easier to plot with matplotlib in a documentation\nraw.plot(scalings=dict(misc=2), show_scrollbars=False, show_scalebars=False)\nplt.show()"
      ]
    },
    {
      "cell_type": "markdown",
      "metadata": {},
      "source": [
        "Now that we have the :class:`~mne.io.Raw` object, we can stream it with a\n:class:`~mne_lsl.player.PlayerLSL` object.\n\n<div class=\"alert alert-info\"><h4>Note</h4><p>Note that forcing ``annotations=True`` is not necessary since the\n    :class:`~mne_lsl.player.PlayerLSL` will automatically stream annotations if they\n    are present in the :class:`~mne.io.Raw` object.</p></div>\n\n<div class=\"alert alert-info\"><h4>Note</h4><p>A ``chunk_size`` of 1 is needed here or the timestamps ``ts`` from the signal and\n    annotations streams are not reliable enough.</p></div>\n\n"
      ]
    },
    {
      "cell_type": "code",
      "execution_count": null,
      "metadata": {
        "collapsed": false
      },
      "outputs": [],
      "source": [
        "source_id = uuid.uuid4().hex\nplayer = PlayerLSL(\n    raw,\n    chunk_size=1,\n    name=\"tutorial-annots\",\n    source_id=source_id,\n    annotations=True,\n).start()"
      ]
    },
    {
      "cell_type": "markdown",
      "metadata": {},
      "source": [
        "We can now acquire both streams with 2 :class:`~mne_lsl.stream.StreamLSL` objects.\n\n"
      ]
    },
    {
      "cell_type": "code",
      "execution_count": null,
      "metadata": {
        "collapsed": false
      },
      "outputs": [],
      "source": [
        "stream = StreamLSL(2, name=\"tutorial-annots\", source_id=source_id)\nstream.connect(acquisition_delay=0.1, processing_flags=\"all\")\nstream.info"
      ]
    },
    {
      "cell_type": "code",
      "execution_count": null,
      "metadata": {
        "collapsed": false
      },
      "outputs": [],
      "source": [
        "stream_annotations = StreamLSL(2, stype=\"annotations\", source_id=source_id)\nstream_annotations.connect(acquisition_delay=0.1, processing_flags=\"all\")\nstream_annotations.info"
      ]
    },
    {
      "cell_type": "markdown",
      "metadata": {},
      "source": [
        "We can now acquire new samples from both streams and create a matplotlib figure to\nplot the signal and the annotations in real-time.\n\n"
      ]
    },
    {
      "cell_type": "code",
      "execution_count": null,
      "metadata": {
        "collapsed": false
      },
      "outputs": [],
      "source": [
        "if not plt.isinteractive():\n    plt.ion()\nfig, ax = plt.subplots()\n# add legend\ncolors = [\"lightcoral\", \"lightgreen\"]\npatches = [\n    mpatches.Patch(color=colors[k], label=ch, alpha=0.5)\n    for k, ch in enumerate(stream_annotations.ch_names)\n]\nax.legend(handles=patches, loc=\"upper left\")\nplt.show()\n\nn = 0  # number of annotations\nwhile n <= 10:\n    if stream.n_new_samples == 0:\n        continue\n\n    data, ts = stream.get_data(winsize=stream.n_new_samples / stream.info[\"sfreq\"])\n    ax.plot(ts, data.squeeze(), color=\"teal\")\n\n    if stream_annotations.n_new_samples != 0:\n        data_annotations, ts_annotations = stream_annotations.get_data(\n            winsize=stream_annotations.n_new_samples\n        )\n        for sample, time in zip(data_annotations.T, ts_annotations):\n            k = np.where(sample != 0)[0][0]  # find the annotation\n            ax.axvspan(\n                time,\n                time + sample[k],\n                label=stream_annotations.ch_names[k],\n                color=colors[k],\n                alpha=0.5,\n            )\n        n += 1\n\n    fig.canvas.draw()\n    fig.canvas.flush_events()"
      ]
    },
    {
      "cell_type": "markdown",
      "metadata": {},
      "source": [
        "## Free resources\n\nWhen you are done with a :class:`~mne_lsl.player.PlayerLSL`, a\n:class:`~mne_lsl.stream.StreamLSL` or a :class:`~mne_lsl.stream.EpochsStream` don't\nforget to free the resources they use to continuously mock an LSL stream or\nreceive new data from an LSL stream.\n\n"
      ]
    },
    {
      "cell_type": "code",
      "execution_count": null,
      "metadata": {
        "collapsed": false
      },
      "outputs": [],
      "source": [
        "stream.disconnect()"
      ]
    },
    {
      "cell_type": "code",
      "execution_count": null,
      "metadata": {
        "collapsed": false
      },
      "outputs": [],
      "source": [
        "stream_annotations.disconnect()"
      ]
    },
    {
      "cell_type": "code",
      "execution_count": null,
      "metadata": {
        "collapsed": false
      },
      "outputs": [],
      "source": [
        "player.stop()"
      ]
    }
  ],
  "metadata": {
    "kernelspec": {
      "display_name": "Python 3",
      "language": "python",
      "name": "python3"
    },
    "language_info": {
      "codemirror_mode": {
        "name": "ipython",
        "version": 3
      },
      "file_extension": ".py",
      "mimetype": "text/x-python",
      "name": "python",
      "nbconvert_exporter": "python",
      "pygments_lexer": "ipython3",
      "version": "3.12.3"
    }
  },
  "nbformat": 4,
  "nbformat_minor": 0
}
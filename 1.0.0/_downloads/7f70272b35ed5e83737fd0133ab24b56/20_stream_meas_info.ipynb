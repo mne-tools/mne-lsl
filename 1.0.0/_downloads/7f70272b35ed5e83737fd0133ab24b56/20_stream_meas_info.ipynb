{
  "cells": [
    {
      "cell_type": "markdown",
      "metadata": {},
      "source": [
        "\n# Stream information\n\n.. include:: ./../../links.inc\n\nA :class:`~mne_lsl.stream.StreamLSL` will automatically attempt to interpret the channel\nnames, types and units during the connection with\n:meth:`mne_lsl.stream.StreamLSL.connect`.\nHowever, by definition, an LSL stream does not require any of those information to be\npresent. Moreover, the channel type and unit are not standardize, and may be define with\ndifferent nomenclature depending on the system and the application emitting the LSL\nstream. For instance, an EEG channel might be denoted by the type ``'eeg'`` or\n``'electroencephalography'``, or something else entirely.\n\nIf ``MNE-LSL`` is not able to interpret the information in a stream description, it will\ndefault to:\n\n* numbers instead of channel names if it failed to load the channel names, ``'0'```,\n  ``'1'``, ... as :func:`mne.create_info` does when the argument ``ch_names`` is\n  provided as a number of channels.\n* The stream type (if interpretable) or ``'misc'`` otherwise if it failed to load the\n  individual channel types.\n* SI units (factor 0) if it failed to load the individual channel units.\n\nThe stream and channel type supported correspond to the MNE-supported channel types.\n"
      ]
    },
    {
      "cell_type": "markdown",
      "metadata": {},
      "source": [
        "## Inspecting a stream info\n\nA :class:`~mne_lsl.stream.StreamLSL` measurement information can be inspected with\nsimilar methods to a :class:`~mne.io.Raw` object:\n:py:attr:`mne_lsl.stream.StreamLSL.info`,\n:py:attr:`mne_lsl.stream.StreamLSL.ch_names`,\n:meth:`mne_lsl.stream.StreamLSL.get_channel_types`,\n:meth:`mne_lsl.stream.StreamLSL.get_channel_units`.\n\n<div class=\"alert alert-info\"><h4>Note</h4><p>For this tutorial purposes, a mock LSL stream is created using a\n    :class:`~mne_lsl.player.PlayerLSL`. See\n    `sphx_glr_generated_tutorials_10_player.py` for additional information on\n    mock LSL streams.</p></div>\n\n"
      ]
    },
    {
      "cell_type": "code",
      "execution_count": null,
      "metadata": {
        "collapsed": false
      },
      "outputs": [],
      "source": [
        "from mne_lsl.datasets import sample\nfrom mne_lsl.player import PlayerLSL as Player\nfrom mne_lsl.stream import StreamLSL as Stream\n\nfname = sample.data_path() / \"sample-ant-aux-raw.fif\"\nplayer = Player(fname)\nplayer.start()\nstream = Stream(bufsize=5)  # 5 seconds of buffer\nstream.connect()\nstream.info"
      ]
    },
    {
      "cell_type": "markdown",
      "metadata": {},
      "source": [
        ":py:attr:`mne_lsl.stream.StreamLSL.ch_names` and\n:meth:`mne_lsl.stream.StreamLSL.get_channel_types` behave like their\n[MNE](mne stable_) counterpart, but\n:meth:`mne_lsl.stream.StreamLSL.get_channel_units` is unique to ``MNE-LSL``.\nIn [MNE](mne stable_), recordings are expected to be provided in SI units, and it is\nup to the end-user to ensure that the underlying data array is abiding.\n\nHowever, many system do not stream data in SI units. For instance, most EEG amplifiers\nstream data in microvolts. ``MNE-LSL`` implements a 'units' API to handle the difference\nin units between 2 stream of similar sources, e.g. between an EEG stream from a first\namplifier in microvolts and an EEG stream from a second amplifier in nanovolts.\n\n"
      ]
    },
    {
      "cell_type": "code",
      "execution_count": null,
      "metadata": {
        "collapsed": false
      },
      "outputs": [],
      "source": [
        "# look at the 3 channels with the type 'eeg'\nch_types = stream.get_channel_types(picks=\"eeg\")\nch_units = stream.get_channel_units(picks=\"eeg\")\nfor ch_name, ch_type, ch_unit in zip(stream.ch_names, ch_types, ch_units):\n    print(f\"Channel '{ch_name}' of type '{ch_type}' has the unit '{ch_unit}'.\")"
      ]
    },
    {
      "cell_type": "markdown",
      "metadata": {},
      "source": [
        "In our case, the 3 selected channels have the unit\n``((107 (FIFF_UNIT_V), 0 (FIFF_UNITM_NONE))``. This format contains 2 elements:\n\n* The first element, ``107 (FIFF_UNIT_V)``, gives the unit type/family. In this case,\n  ``V`` means that the unit type is ``Volts``. Each sensor type is associated to a\n  different unit type, thus to change the first element the sensor type must be set\n  with :meth:`mne_lsl.stream.StreamLSL.set_channel_types`.\n* The second element, ``0 (FIFF_UNITM_NONE))``, gives the unit scale (Giga, Kilo,\n  micro, ...) in the form of the power of 10 multiplication factor. In this case,\n  ``0`` means ``e0``, i.e. ``10**0``.\n\nThus, the unit stored is ``Volts``, corresponding to the SI unit for\nelectrophysiological channels.\n\n## Correct a stream info\n\nIf a :py:attr:`mne_lsl.stream.StreamLSL.info` does not contain the correct attributes,\nit should be corrected similarly as for a :class:`~mne.io.Raw` object. In this case:\n\n* the channel ``AUX1`` is a vertical EOG channel.\n* the channel ``AUX2`` is an ECG channel.\n* the channel ``AUX3`` is an horizontal EOG channel.\n\n"
      ]
    },
    {
      "cell_type": "code",
      "execution_count": null,
      "metadata": {
        "collapsed": false
      },
      "outputs": [],
      "source": [
        "stream.rename_channels({\"AUX1\": \"vEOG\", \"AUX2\": \"ECG\", \"AUX3\": \"hEOG\"})\nstream.set_channel_types({\"vEOG\": \"eog\", \"hEOG\": \"eog\", \"ECG\": \"ecg\"})\nstream.info"
      ]
    },
    {
      "cell_type": "markdown",
      "metadata": {},
      "source": [
        "TODO: section about setting the channel units\n\n"
      ]
    },
    {
      "cell_type": "markdown",
      "metadata": {},
      "source": [
        "## Free resources\nWhen you are done with a :class:`~mne_lsl.player.PlayerLSL` or\n:class:`~mne_lsl.stream.StreamLSL`, don't forget to free the resources they both use\nto continuously mock an LSL stream or receive new data from an LSL stream.\n\n"
      ]
    },
    {
      "cell_type": "code",
      "execution_count": null,
      "metadata": {
        "collapsed": false
      },
      "outputs": [],
      "source": [
        "stream.disconnect()\nplayer.stop()"
      ]
    }
  ],
  "metadata": {
    "kernelspec": {
      "display_name": "Python 3",
      "language": "python",
      "name": "python3"
    },
    "language_info": {
      "codemirror_mode": {
        "name": "ipython",
        "version": 3
      },
      "file_extension": ".py",
      "mimetype": "text/x-python",
      "name": "python",
      "nbconvert_exporter": "python",
      "pygments_lexer": "ipython3",
      "version": "3.9.18"
    }
  },
  "nbformat": 4,
  "nbformat_minor": 0
}
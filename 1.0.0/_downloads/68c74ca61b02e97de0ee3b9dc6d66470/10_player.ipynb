{
  "cells": [
    {
      "cell_type": "markdown",
      "metadata": {},
      "source": [
        "\n# Introduction to the Player API\n\n.. include:: ./../../links.inc\n\nDuring the development of a project, it's very helpful to test on a mock LSL stream\nreplicating an experimental condition. The :class:`~mne_lsl.player.PlayerLSL` can create\na mock LSL stream from any [MNE](mne stable_) readable file.\n\n<div class=\"alert alert-info\"><h4>Note</h4><p>For now, the mock capabilities are restricted to streams with a continuous sampling\n    rate. Streams with an irregular sampling rate corresponding to event streams are not\n    yet supported.</p></div>\n"
      ]
    },
    {
      "cell_type": "markdown",
      "metadata": {},
      "source": [
        "## Create a mock LSL Stream\n\nA :class:`~mne_lsl.player.PlayerLSL` requires a valid path to an existing file which\ncan be read by [MNE](mne stable_). In this case, the sample data\n``sample-ant-raw.fif`` recorded on an ANT Neuro 64 channel EEG amplifier.\n\n"
      ]
    },
    {
      "cell_type": "code",
      "execution_count": null,
      "metadata": {
        "collapsed": false
      },
      "outputs": [],
      "source": [
        "import time\n\nimport numpy as np\nfrom matplotlib import pyplot as plt\nfrom mne import pick_types, set_log_level\n\nfrom mne_lsl.datasets import sample\nfrom mne_lsl.lsl import StreamInlet, resolve_streams\nfrom mne_lsl.player import PlayerLSL as Player\nfrom mne_lsl.stream import StreamLSL as Stream\n\nset_log_level(\"WARNING\")\n\nfname = sample.data_path() / \"sample-ant-raw.fif\"\nplayer = Player(fname)\nplayer.start()"
      ]
    },
    {
      "cell_type": "markdown",
      "metadata": {},
      "source": [
        "Once started, a :class:`~mne_lsl.player.PlayerLSL` will continuously stream data from\nthe file until stopped. If the end of file is reached, it will loop back to the\nbeginning thus inducing a discontinuity in the signal.\n\n"
      ]
    },
    {
      "cell_type": "code",
      "execution_count": null,
      "metadata": {
        "collapsed": false
      },
      "outputs": [],
      "source": [
        "streams = resolve_streams()\nprint(streams[0])"
      ]
    },
    {
      "cell_type": "markdown",
      "metadata": {},
      "source": [
        "You can connect to the stream as you would with any other LSL stream, e.g. with a\n:class:`mne_lsl.lsl.StreamInlet`:\n\n"
      ]
    },
    {
      "cell_type": "code",
      "execution_count": null,
      "metadata": {
        "collapsed": false
      },
      "outputs": [],
      "source": [
        "inlet = StreamInlet(streams[0])\ninlet.open_stream()\ndata, ts = inlet.pull_chunk()\nprint(data.shape)  # (n_samples, n_channels)\ndel inlet"
      ]
    },
    {
      "cell_type": "markdown",
      "metadata": {},
      "source": [
        "or with a :class:`mne_lsl.stream.StreamLSL`:\n\n"
      ]
    },
    {
      "cell_type": "code",
      "execution_count": null,
      "metadata": {
        "collapsed": false
      },
      "outputs": [],
      "source": [
        "stream = Stream(bufsize=2, name=player.name)\nstream.connect()\nstream.info\ntime.sleep(1)\ndata, ts = stream.get_data(winsize=1)\nprint(data.shape)  # (n_channels, n_samples)"
      ]
    },
    {
      "cell_type": "code",
      "execution_count": null,
      "metadata": {
        "collapsed": false
      },
      "outputs": [],
      "source": [
        "data, ts = stream.get_data(winsize=1, picks=\"ECG\")\nf, ax = plt.subplots(1, 1, constrained_layout=True)\nax.plot(ts, np.squeeze(data))\nax.set_title(\"ECG channel\")\nax.set_xlabel(\"Time (seconds)\")\nax.set_ylabel(\"Voltage (?)\")\nplt.show()"
      ]
    },
    {
      "cell_type": "markdown",
      "metadata": {},
      "source": [
        "## Streaming unit\n\nNote the lack of unit on the Y-axis  of the previous plot. By convention,\n[MNE-Python](mne stable_) stores data in SI units, i.e. Volts for EEG, ECG, EOG, EMG\nchannels.\n\n"
      ]
    },
    {
      "cell_type": "code",
      "execution_count": null,
      "metadata": {
        "collapsed": false
      },
      "outputs": [],
      "source": [
        "data, ts = stream.get_data(winsize=1, picks=\"Fz\")\nf, ax = plt.subplots(1, 1, constrained_layout=True)\nax.plot(ts, np.squeeze(data))\nax.set_title(\"Fz (EEG) channel\")\nax.set_xlabel(\"Time (seconds)\")\nax.set_ylabel(\"Voltage (V)\")\nplt.show()"
      ]
    },
    {
      "cell_type": "markdown",
      "metadata": {},
      "source": [
        "But most systems do not stream in SI units as it can be inconvenient to work with very\nsmall floats. For instance, an ANT amplifier stream in microvolts. Thus, to replicate\nour experimental condition, the correct streaming unit must be set with\n:meth:`mne_lsl.player.PlayerLSL.set_channel_units`.\n\n<div class=\"alert alert-info\"><h4>Note</h4><p>The methods impacting the measurement information (e.g. channel name, channel\n    units) can not be used on a stream which is started.</p></div>\n\n"
      ]
    },
    {
      "cell_type": "code",
      "execution_count": null,
      "metadata": {
        "collapsed": false
      },
      "outputs": [],
      "source": [
        "del stream\nplayer.stop()\nmapping = {\n    player.ch_names[k]: \"microvolts\"\n    for k in pick_types(player.info, eeg=True, eog=True, ecg=True)\n}\nplayer.set_channel_units(mapping)\nplayer.start()"
      ]
    },
    {
      "cell_type": "code",
      "execution_count": null,
      "metadata": {
        "collapsed": false
      },
      "outputs": [],
      "source": [
        "stream = Stream(bufsize=2, name=player.name)\nstream.connect()\ntime.sleep(1)\ndata_rescale, ts_rescale = stream.get_data(winsize=1, picks=\"Fz\")\nf, ax = plt.subplots(2, 1, constrained_layout=True)\nax[0].plot(ts, np.squeeze(data))\nax[1].plot(ts_rescale, np.squeeze(data_rescale))\nax[0].set_title(\"Fz channel (window 1)\")\nax[1].set_title(\"Fz channel (window 2)\")\nax[0].set_ylabel(\"Voltage (V)\")\nax[1].set_ylabel(\"Voltage (\u00b5V)\")\nax[0].set_xlim(ts[0] - 1, ts_rescale[-1] + 1)\nax[1].set_xlim(ts[0] - 1, ts_rescale[-1] + 1)\nplt.show()"
      ]
    },
    {
      "cell_type": "markdown",
      "metadata": {},
      "source": [
        "<div class=\"alert alert-info\"><h4>Note</h4><p>The value range seems important for EEG channels, but the sample dataset is not\n    filtered. Thus, a large DC offset is present.</p></div>\n\nThe :class:`~mne_lsl.stream.StreamLSL` object will be able to interpret the channel\nunit and will report that the EEG, EOG, ECG channels are streamed in microvolts while\nthe trigger channel is streamed in volts.\n\n"
      ]
    },
    {
      "cell_type": "code",
      "execution_count": null,
      "metadata": {
        "collapsed": false
      },
      "outputs": [],
      "source": [
        "ecg_idx = pick_types(stream.info, ecg=True)[0]\nstim_idx = pick_types(stream.info, stim=True)[0]\nunits = stream.get_channel_units()\nprint(\n    f\"ECG channel type: '{units[ecg_idx][0]}' (Volts)\\n with the multiplication \"\n    f\"factor {units[ecg_idx][1]} (1e-6, micro).\\n\"\n)\nprint(\n    f\"Stim channel type: '{units[stim_idx][0]}' (Volts)\\n with the multiplication \"\n    f\"factor {units[stim_idx][1]} (1e0, none).\\n\"\n)"
      ]
    },
    {
      "cell_type": "markdown",
      "metadata": {},
      "source": [
        "## Context manager\n\nA :class:`~mne_lsl.player.PlayerLSL` can also be used as a context manager, to handle\nthe :meth:`mne_lsl.player.PlayerLSL.start` and :meth:`mne_lsl.player.PlayerLSL.stop`.\n\n"
      ]
    },
    {
      "cell_type": "code",
      "execution_count": null,
      "metadata": {
        "collapsed": false
      },
      "outputs": [],
      "source": [
        "del stream\nplayer.stop()\n\nwith player:\n    stream = Stream(bufsize=2)\n    stream.connect()\n    print(stream.info)\n    stream.disconnect()"
      ]
    }
  ],
  "metadata": {
    "kernelspec": {
      "display_name": "Python 3",
      "language": "python",
      "name": "python3"
    },
    "language_info": {
      "codemirror_mode": {
        "name": "ipython",
        "version": 3
      },
      "file_extension": ".py",
      "mimetype": "text/x-python",
      "name": "python",
      "nbconvert_exporter": "python",
      "pygments_lexer": "ipython3",
      "version": "3.9.18"
    }
  },
  "nbformat": 4,
  "nbformat_minor": 0
}
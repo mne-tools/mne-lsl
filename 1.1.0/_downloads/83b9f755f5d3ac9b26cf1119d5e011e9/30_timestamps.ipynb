{
  "cells": [
    {
      "cell_type": "markdown",
      "metadata": {},
      "source": [
        "\n# Stream timestamps\n\n.. include:: ./../../links.inc\n\nAn LSL stream is composed of samples received at a given time. Each device, each source,\nadvertises its own time. If the source and the client are on the same physical computer,\ne.g. with a :class:`mne_lsl.lsl.StreamOutlet` and a :class:`mne_lsl.lsl.StreamInlet`,\nthe same clock is used. But if the source and the client are on different computers,\ne.g. connected on a local ethernet network, the delay between the source and the client\nmight be important.\n"
      ]
    },
    {
      "cell_type": "markdown",
      "metadata": {},
      "source": [
        "## Estimate the delay\n\nAt a low-level, a :class:`~mne_lsl.lsl.StreamInlet` has a\n:meth:`~mne_lsl.lsl.StreamInlet.time_correction` method to estimate the time offset.\n\n<div class=\"alert alert-info\"><h4>Note</h4><p>For this tutorial purposes, a mock LSL stream is created using a\n    :class:`~mne_lsl.player.PlayerLSL`. See\n    `sphx_glr_generated_tutorials_10_player.py` for additional information on\n    mock LSL streams.</p></div>\n\n"
      ]
    },
    {
      "cell_type": "code",
      "execution_count": null,
      "metadata": {
        "collapsed": false
      },
      "outputs": [],
      "source": [
        "import time\n\nfrom matplotlib import pyplot as plt\n\nfrom mne_lsl.datasets import sample\nfrom mne_lsl.lsl import StreamInlet, resolve_streams\nfrom mne_lsl.player import PlayerLSL as Player\nfrom mne_lsl.stream import StreamLSL as Stream\n\nfname = sample.data_path() / \"sample-ant-raw.fif\"\nplayer = Player(fname)\nplayer.start()\n\nstreams = resolve_streams(name=player.name)\ninlet = StreamInlet(streams[0])\ninlet.open_stream()\nprint(inlet.time_correction())\ndel inlet"
      ]
    },
    {
      "cell_type": "markdown",
      "metadata": {},
      "source": [
        "With the example above, the time offset is very small because the source\n(:class:`~mne_lsl.player.PlayerLSL`) and the client\n(:class:`~mne_lsl.lsl.StreamInlet`) are both local, i.e. present on the same computer.\n\n"
      ]
    },
    {
      "cell_type": "markdown",
      "metadata": {},
      "source": [
        "## Timestamps in the Stream API\n\nA :class:`~mne_lsl.stream.StreamLSL` returns both the samples and the associated\ntimestamps when queried with :meth:`~mne_lsl.stream.StreamLSL.get_data`.\n\n"
      ]
    },
    {
      "cell_type": "code",
      "execution_count": null,
      "metadata": {
        "collapsed": false
      },
      "outputs": [],
      "source": [
        "stream = Stream(2, name=player.name)\nstream.connect()\ntime.sleep(2)\ndata, ts = stream.get_data(picks=\"ECG\")\nf, ax = plt.subplots(1, 1, figsize=(10, 5), constrained_layout=True)\nax.plot(ts, data[0, :])\nax.set_ylabel(\"ECG\")\nax.set_xlabel(\"Timestamps LSL\")"
      ]
    },
    {
      "cell_type": "markdown",
      "metadata": {},
      "source": [
        "TODO: Add a stream from XDF file with jitter and add the processing flags.\n\n"
      ]
    },
    {
      "cell_type": "markdown",
      "metadata": {},
      "source": [
        "## Free resources\nWhen you are done with a :class:`~mne_lsl.player.PlayerLSL` or\n:class:`~mne_lsl.stream.StreamLSL`, don't forget to free the resources they both use\nto continuously mock an LSL stream or receive new data from an LSL stream.\n\n"
      ]
    },
    {
      "cell_type": "code",
      "execution_count": null,
      "metadata": {
        "collapsed": false
      },
      "outputs": [],
      "source": [
        "stream.disconnect()\nplayer.stop()"
      ]
    }
  ],
  "metadata": {
    "kernelspec": {
      "display_name": "Python 3",
      "language": "python",
      "name": "python3"
    },
    "language_info": {
      "codemirror_mode": {
        "name": "ipython",
        "version": 3
      },
      "file_extension": ".py",
      "mimetype": "text/x-python",
      "name": "python",
      "nbconvert_exporter": "python",
      "pygments_lexer": "ipython3",
      "version": "3.9.18"
    }
  },
  "nbformat": 4,
  "nbformat_minor": 0
}
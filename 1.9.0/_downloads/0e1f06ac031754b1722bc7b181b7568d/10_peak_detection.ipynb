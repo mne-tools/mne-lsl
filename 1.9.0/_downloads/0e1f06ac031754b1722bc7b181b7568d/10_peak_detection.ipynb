{
  "cells": [
    {
      "cell_type": "markdown",
      "metadata": {},
      "source": [
        "\n# Real-time peak detection\n\nWith a :class:`~mne_lsl.stream.StreamLSL`, we can build a real-time peak detector. The\nstructure defined below will be adapted for cardiac R-peak detection, but remains\nvalid for other peak detector. Note however that the peak detection performance, i.e.\nhow fast it will be able to detect a peak, will depend heavily on the peak shape.\n\nFor this example, consider a :class:`~mne_lsl.stream.StreamLSL` connected to an\namplifier stream containing an ECG bipolar channel. We can detect in real-time the\nR-peak within the ECG signal. The objective of this example is to create a ``Detector``\nobject able to detect new R-peak entering the buffer as fast as possible, with some\nrobustness to external noise sources (e.g. movements) and a simple design.\n\n<img src=\"file://../../_static/tutorials/qrs.png\" align=\"center\" class=\"qrs-img\">\n\nFirst let's have a look to a sample ECG signal and to how we could detect the R-peak\nreliably with :func:`scipy.signal.find_peaks`.\n"
      ]
    },
    {
      "cell_type": "code",
      "execution_count": null,
      "metadata": {
        "collapsed": false
      },
      "outputs": [],
      "source": [
        "import numpy as np\nfrom matplotlib import pyplot as plt\nfrom mne.io import read_raw_fif\nfrom mne.viz import set_browser_backend\nfrom scipy.signal import find_peaks\n\nfrom mne_lsl.datasets import sample\n\nraw = read_raw_fif(sample.data_path() / \"sample-ecg-raw.fif\", preload=True)\nraw"
      ]
    },
    {
      "cell_type": "markdown",
      "metadata": {},
      "source": [
        "This sample recording contains a single channel with the ECG signal.\n\n"
      ]
    },
    {
      "cell_type": "code",
      "execution_count": null,
      "metadata": {
        "collapsed": false
      },
      "outputs": [],
      "source": [
        "set_browser_backend(\"matplotlib\")\nraw.plot(scalings=dict(misc=1300), show_scrollbars=False)\nplt.show()"
      ]
    },
    {
      "cell_type": "markdown",
      "metadata": {},
      "source": [
        "## Filters\n\nThis recording is heavily affected by line noise (50 Hz in Europe). Our detector\nshould filter the signal to distinguish easily the QRS complex and the associated\nR-peaks. Let's compare the raw signal with filtered signal using the following\nsettings:\n\n- notch at 50 and 100 Hz\n- bandpass filter between 0.1 and 15 Hz\n- lowpass filter at 15 Hz\n\n"
      ]
    },
    {
      "cell_type": "code",
      "execution_count": null,
      "metadata": {
        "collapsed": false
      },
      "outputs": [],
      "source": [
        "raw_notched = raw.copy()\n_ = raw_notched.notch_filter(50, method=\"iir\", phase=\"forward\", picks=\"misc\")\n_ = raw_notched.notch_filter(100, method=\"iir\", phase=\"forward\", picks=\"misc\")\n\nraw_bandpassed = raw.copy()\n_ = raw_bandpassed.filter(0.1, 15, method=\"iir\", phase=\"forward\", picks=\"misc\")\n\nraw_lowpassed = raw.copy()\n_ = raw_lowpassed.filter(None, 15, method=\"iir\", phase=\"forward\", picks=\"misc\")"
      ]
    },
    {
      "cell_type": "markdown",
      "metadata": {},
      "source": [
        "To compare those signals, it would be best if we could overlay them in a single plot.\nLet's select a 5 seconds window and plot the detrended signals.\n\n<div class=\"alert alert-info\"><h4>Note</h4><p>Contrary to the filter used by a :class:`~mne_lsl.stream.StreamLSL`, the forward\n    filter in MNE don't use initial filter conditions. Thus, the beginning of the\n    filter signal should not be used as the filter has not yet converged.</p></div>\n\n"
      ]
    },
    {
      "cell_type": "code",
      "execution_count": null,
      "metadata": {
        "collapsed": false
      },
      "outputs": [],
      "source": [
        "start = int(120 * raw.info[\"sfreq\"])\nstop = int(125 * raw.info[\"sfreq\"])\nfig, ax = plt.subplots(1, 1, figsize=(10, 5), layout=\"constrained\")\nfor raw_, label in zip(\n    (raw, raw_notched, raw_bandpassed, raw_lowpassed),\n    (\"raw\", \"notched\", \"bandpassed\", \"lowpassed\"),\n    strict=True,\n):\n    data, times = raw_[:, start:stop]  # select 5 seconds\n    data -= data.mean()  # detrend\n    ax.plot(times, data.squeeze(), label=label)\nax.legend()\nplt.show()"
      ]
    },
    {
      "cell_type": "markdown",
      "metadata": {},
      "source": [
        "Our first issue arises, the filter is altering the phase of the signal and thus the\nshape of the QRS complex, shifting the R-peak to the right.\n\n"
      ]
    },
    {
      "cell_type": "code",
      "execution_count": null,
      "metadata": {
        "collapsed": false
      },
      "outputs": [],
      "source": [
        "start = int(121.2 * raw.info[\"sfreq\"])\nstop = int(121.6 * raw.info[\"sfreq\"])\nfig, ax = plt.subplots(1, 1, figsize=(10, 5), layout=\"constrained\")\nfor raw_, label in zip(\n    (raw, raw_notched, raw_bandpassed, raw_lowpassed),\n    (\"raw\", \"notched\", \"bandpassed\", \"lowpassed\"),\n    strict=True,\n):\n    data, times = raw_[:, start:stop]  # select 5 seconds\n    data -= data.mean()  # detrend\n    ax.plot(times, data.squeeze(), label=label)\nax.legend()\nplt.show()"
      ]
    },
    {
      "cell_type": "markdown",
      "metadata": {},
      "source": [
        "The lowpassed and bandpassed signals are heavily shifted, while the notched signal\nretains the correct timing of the R-peak. Since our objective is to detect the R-peak\nas soon as possible, it would be best to use the notched signal which has the highest\nfidelity with the raw signal shape, while removing a large part of the background\nnoise.\n\n## Peak detection\n\nNext, let's detect the R-peaks on the same 5 seconds window of the notched signal with\n:func:`scipy.signal.find_peaks`.\n\n<div class=\"alert alert-info\"><h4>Note</h4><p>We do not need to detrend to find peaks. Detrending was only useful to overlay the\n    bandpassed signal with the raw, notched and lowpassed signals.</p></div>\n\n"
      ]
    },
    {
      "cell_type": "code",
      "execution_count": null,
      "metadata": {
        "collapsed": false
      },
      "outputs": [],
      "source": [
        "start = int(120 * raw.info[\"sfreq\"])\nstop = int(125 * raw.info[\"sfreq\"])\ndata, times = raw_notched[:, start:stop]\npeaks = find_peaks(data.squeeze())[0]\nfig, ax = plt.subplots(1, 1, layout=\"constrained\")\nax.plot(times, data.squeeze())\nfor peak in peaks:\n    ax.axvline(times[peak], color=\"red\", linestyle=\"--\")\nplt.show()"
      ]
    },
    {
      "cell_type": "markdown",
      "metadata": {},
      "source": [
        "The detected peaks are represented by the red dashed lines, and for now, the detection\nis horrible. But we can improve it by setting the following constraints:\n\n- height of the peak should be at least 98% of the data range\n- distance between two peaks should be at least 0.5 seconds\n\n"
      ]
    },
    {
      "cell_type": "code",
      "execution_count": null,
      "metadata": {
        "collapsed": false
      },
      "outputs": [],
      "source": [
        "start = int(120 * raw.info[\"sfreq\"])\nstop = int(125 * raw.info[\"sfreq\"])\ndata, times = raw_notched[:, start:stop]\npeaks = find_peaks(\n    data.squeeze(),\n    height=np.percentile(data.squeeze(), 98),\n    distance=0.5 * raw_notched.info[\"sfreq\"],\n)[0]\nfig, ax = plt.subplots(1, 1, layout=\"constrained\")\nax.plot(times, data.squeeze())\nfor peak in peaks:\n    ax.axvline(times[peak], color=\"red\", linestyle=\"--\")\nplt.show()"
      ]
    },
    {
      "cell_type": "markdown",
      "metadata": {},
      "source": [
        "Adjusting the peak detection constraints to your signal is crucial.\n\n## Detector\n\nNow that we have a good idea of how to detect the R-peaks, let's create a real-time\n``Detector`` object that will detect the R-peaks as soon as they enter the buffer.\n\n"
      ]
    },
    {
      "cell_type": "code",
      "execution_count": null,
      "metadata": {
        "collapsed": false
      },
      "outputs": [],
      "source": [
        "from time import sleep\n\nimport numpy as np\nfrom numpy.typing import NDArray\nfrom scipy.signal import find_peaks\n\nfrom mne_lsl.stream import StreamLSL\n\nECG_HEIGHT: float = 98.0  # percentile height constraint, in %\nECG_DISTANCE: float = 0.5  # distance constraint, in seconds\n\n\nclass Detector:\n    \"\"\"Real-time single channel peak detector.\n\n    Parameters\n    ----------\n    bufsize : float\n        Size of the buffer in seconds. The buffer will be filled on instantiation, thus\n        the program will hold during this duration.\n    stream_name : str\n        Name of the LSL stream to use for the respiration or cardiac detection. The\n        stream should contain a respiration channel using a respiration belt or a\n        thermistor and/or an ECG channel.\n    stream_source_id : str | None\n        A unique identifier of the device or source of the data. If not empty, this\n        information improves the system robustness since it allows recipients to recover\n        from failure by finding a stream with the same source_id on the network.\n    ch_name : str\n        Name of the ECG channel in the LSL stream. This channel should contain the ECG\n        signal recorded with 2 bipolar electrodes.\n\n    \"\"\"\n\n    def __init__(\n        self,\n        bufsize: float,\n        stream_name: str,\n        stream_source_id: str | None,\n        ch_name: str,\n    ) -> None:\n        # create stream\n        self._stream = StreamLSL(\n            bufsize, name=stream_name, source_id=stream_source_id\n        ).connect(acquisition_delay=None, processing_flags=\"all\")\n        self._stream.pick(ch_name)\n        self._stream.set_channel_types({ch_name: \"misc\"}, on_unit_change=\"ignore\")\n        self._stream.notch_filter(50, picks=ch_name)\n        self._stream.notch_filter(100, picks=ch_name)\n        sleep(bufsize)  # prefill an entire buffer\n\n    def detect_peaks(self) -> NDArray[np.float64]:\n        \"\"\"Detect all peaks in the buffer.\n\n        Returns\n        -------\n        peaks : array of shape (n_peaks,)\n            The timestamps of all detected peaks.\n        \"\"\"\n        self._stream.acquire()\n        data, ts = self._stream.get_data()  # we have a single channel in the stream\n        data = data.squeeze()\n        peaks, _ = find_peaks(\n            data,\n            distance=ECG_DISTANCE * self._stream.info[\"sfreq\"],\n            height=np.percentile(data, ECG_HEIGHT),\n        )\n        return ts[peaks]"
      ]
    },
    {
      "cell_type": "markdown",
      "metadata": {},
      "source": [
        "The object above is a good start, but it will detect all peaks in the buffer and it\ndoesn't have any memory of which peak was already detected. We need to add some\ntriage logic on the detected peaks and a memory of the last detected peak(s).\n\nThe triage logic will:\n\n- detect all peaks in the current buffer\n- create a list of peak candidates which correspond to detected peaks which have not\n  yet been selected as 'latest peak'\n- count the number of times each peak candidate is detected\n- if a peak candidate is detected 4 times, the most recent peak candidate becomes the\n  latest peak and is returned (i.e. detected)\n\nThe triage logic uses a memory of the last detected peaks to count the number of peak\ncandidates between 2 iteration, and to store the last known detected peak. This is\nsimplify achieved by storing the LSL time at which the peak was detected.\n\n"
      ]
    },
    {
      "cell_type": "code",
      "execution_count": null,
      "metadata": {
        "collapsed": false
      },
      "outputs": [],
      "source": [
        "from time import sleep\n\nimport numpy as np\nfrom numpy.typing import NDArray\nfrom scipy.signal import find_peaks\n\nfrom mne_lsl.stream import StreamLSL\n\nECG_HEIGHT: float = 98.0  # percentile height constraint, in %\nECG_DISTANCE: float = 0.5  # distance constraint, in seconds\n\n\nclass Detector:\n    \"\"\"Real-time single channel peak detector.\n\n    Parameters\n    ----------\n    bufsize : float\n        Size of the buffer in seconds. The buffer will be filled on instantiation, thus\n        the program will hold during this duration.\n    stream_name : str\n        Name of the LSL stream to use for the respiration or cardiac detection. The\n        stream should contain a respiration channel using a respiration belt or a\n        thermistor and/or an ECG channel.\n    stream_source_id : str | None\n        A unique identifier of the device or source of the data. If not empty, this\n        information improves the system robustness since it allows recipients to recover\n        from failure by finding a stream with the same source_id on the network.\n    ch_name : str\n        Name of the ECG channel in the LSL stream. This channel should contain the ECG\n        signal recorded with 2 bipolar electrodes.\n    \"\"\"\n\n    def __init__(\n        self,\n        bufsize: float,\n        stream_name: str,\n        stream_source_id: str | None,\n        ch_name: str,\n    ) -> None:\n        # create stream\n        self._stream = StreamLSL(\n            bufsize, name=stream_name, source_id=stream_source_id\n        ).connect(acquisition_delay=None, processing_flags=\"all\")\n        self._stream.pick(ch_name)\n        self._stream.set_channel_types({ch_name: \"misc\"}, on_unit_change=\"ignore\")\n        self._stream.notch_filter(50, picks=ch_name)\n        self._stream.notch_filter(100, picks=ch_name)\n        sleep(bufsize)  # prefill an entire buffer\n        # peak detection settings\n        self._last_peak = None\n        self._peak_candidates = None\n        self._peak_candidates_count = None\n\n    def detect_peaks(self) -> NDArray[np.float64]:\n        \"\"\"Detect all peaks in the buffer.\n\n        Returns\n        -------\n        peaks : array of shape (n_peaks,)\n            The timestamps of all detected peaks.\n        \"\"\"\n        self._stream.acquire()\n        if self._stream.n_new_samples == 0:\n            return np.array([])  # nothing new to do\n        data, ts = self._stream.get_data()  # we have a single channel in the stream\n        data = data.squeeze()\n        peaks, _ = find_peaks(\n            data,\n            distance=ECG_DISTANCE * self._stream.info[\"sfreq\"],\n            height=np.percentile(data, ECG_HEIGHT),\n        )\n        return ts[peaks]\n\n    def new_peak(self) -> float | None:\n        \"\"\"Detect new peak entering the buffer.\n\n        Returns\n        -------\n        peak : float | None\n            The timestamp of the newly detected peak. None if no new peak is detected.\n        \"\"\"\n        ts_peaks = self.detect_peaks()\n        if ts_peaks.size == 0:\n            return None\n        if self._peak_candidates is None and self._peak_candidates_count is None:\n            self._peak_candidates = list(ts_peaks)\n            self._peak_candidates_count = [1] * ts_peaks.size\n            return None\n        peaks2append = []\n        for k, peak in enumerate(self._peak_candidates):\n            if peak in ts_peaks:\n                self._peak_candidates_count[k] += 1\n            else:\n                peaks2append.append(peak)\n        # before going further, let's make sure we don't add too many false positives,\n        # which could be indicative of noise in the signal (e.g. movements)\n        if int(self._stream._bufsize * (1 / ECG_DISTANCE)) < len(peaks2append) + len(\n            self._peak_candidates\n        ):\n            self._peak_candidates = None\n            self._peak_candidates_count = None\n            return None\n        self._peak_candidates.extend(peaks2append)\n        self._peak_candidates_count.extend([1] * len(peaks2append))\n        # now, all the detected peaks have been triage, let's see if we have a winner\n        idx = [k for k, count in enumerate(self._peak_candidates_count) if 4 <= count]\n        if len(idx) == 0:\n            return None\n        peaks = sorted([self._peak_candidates[k] for k in idx])\n        # compare the winner with the last known peak\n        if self._last_peak is None:  # don't return the first peak detected\n            new_peak = None\n            self._last_peak = peaks[-1]\n        if self._last_peak is None or self._last_peak + ECG_DISTANCE <= peaks[-1]:\n            new_peak = peaks[-1]\n            self._last_peak = peaks[-1]\n        else:\n            new_peak = None\n        # reset the peak candidates\n        self._peak_candidates = None\n        self._peak_candidates_count = None\n        return new_peak\n\n    @property\n    def stream(self):\n        \"\"\"Stream object.\"\"\"\n        return self._stream"
      ]
    },
    {
      "cell_type": "markdown",
      "metadata": {},
      "source": [
        "## Performance\n\nLet's now test this detector and measure the time it takes to detect a new peak\nentering the buffer. To properly do so, the player should be started in a separate\nprocess to avoid hogging the CPU time in the main thread leaving no time for the\nplayer to stream new data.\n\n"
      ]
    },
    {
      "cell_type": "code",
      "execution_count": null,
      "metadata": {
        "collapsed": false
      },
      "outputs": [],
      "source": [
        "import multiprocessing as mp\nimport uuid\n\n\ndef player_process(fname, name, source_id, status):\n    \"\"\"Process which runs the process.\"\"\"\n    from mne_lsl.player import PlayerLSL\n\n    player = PlayerLSL(fname, chunk_size=1, name=name, source_id=source_id)\n    player.start()\n    status.value = 1\n    while status.value:\n        pass\n    player.stop()\n\n\nfname = sample.data_path() / \"sample-ecg-raw.fif\"\nname = \"ecg-example\"\nsource_id = uuid.uuid4().hex\nmanager = mp.Manager()\nstatus = manager.Value(\"i\", 0)\nprocess = mp.Process(target=player_process, args=(fname, name, source_id, status))\nprocess.start()\nwhile status.value != 1:\n    pass  # wait for the player to actually start"
      ]
    },
    {
      "cell_type": "markdown",
      "metadata": {},
      "source": [
        "Now that a :class:`~mne_lsl.player.PlayerLSL` is running in a separate process, we can\nstart the detector and measure the time it takes to detect a new peak.\n\n"
      ]
    },
    {
      "cell_type": "code",
      "execution_count": null,
      "metadata": {
        "collapsed": false
      },
      "outputs": [],
      "source": [
        "from mne_lsl.lsl import local_clock\n\ndetector = Detector(4, name, source_id, \"AUX8\")\ndelays = list()\nwhile len(delays) <= 30:\n    peak = detector.new_peak()\n    if peak is not None:\n        delays.append((local_clock() - peak) * 1e3)\ndetector.stream.disconnect()\nstatus.value = 0  # stops the player\n\nf, ax = plt.subplots(1, 1, layout=\"constrained\")\nax.set_title(\"Detection delay in ms\")\nax.hist(delays, bins=15)\nplt.show()"
      ]
    },
    {
      "cell_type": "markdown",
      "metadata": {},
      "source": [
        "The detection delay displayed can be as low as 1 or 2 ms depending on the computer, on\nthe process configuration and on the performance of the streaming source. A\n:class:`~mne_lsl.player.PlayerLSL` is not reproducing exactly the performance of a\nreal-time application.\n\n"
      ]
    }
  ],
  "metadata": {
    "kernelspec": {
      "display_name": "Python 3",
      "language": "python",
      "name": "python3"
    },
    "language_info": {
      "codemirror_mode": {
        "name": "ipython",
        "version": 3
      },
      "file_extension": ".py",
      "mimetype": "text/x-python",
      "name": "python",
      "nbconvert_exporter": "python",
      "pygments_lexer": "ipython3",
      "version": "3.13.2"
    }
  },
  "nbformat": 4,
  "nbformat_minor": 0
}
{
  "cells": [
    {
      "cell_type": "markdown",
      "metadata": {},
      "source": [
        "\n# Bandpower rolling window\n\nWith a :class:`~mne_lsl.stream.StreamLSL`, we can compute the bandpower on a time\nrolling window. For this example, we will look at the alpha band power, between 8 and\n13 Hz.\n"
      ]
    },
    {
      "cell_type": "code",
      "execution_count": null,
      "metadata": {
        "collapsed": false
      },
      "outputs": [],
      "source": [
        "import time\nimport uuid\n\nimport numpy as np\nfrom matplotlib import colormaps\nfrom matplotlib import pyplot as plt\nfrom mne.io import read_raw_fif\nfrom mne.time_frequency import psd_array_multitaper\nfrom numpy.typing import NDArray\nfrom scipy.integrate import simpson\nfrom scipy.signal import periodogram, welch\n\nfrom mne_lsl.datasets import sample\nfrom mne_lsl.player import PlayerLSL\nfrom mne_lsl.stream import StreamLSL\n\n# dataset used in the example\nraw = read_raw_fif(sample.data_path() / \"sample-ant-raw.fif\", preload=False)\nraw.crop(40, 60).load_data()\nraw"
      ]
    },
    {
      "cell_type": "markdown",
      "metadata": {},
      "source": [
        "## Preprocessing\n\nIn a real-time scenario, we would want to apply artifact rejection methods online to\nestimate the bandpower on brain signals, not on artifacts. For this example, we will\nonly apply a bandpass filter to the data.\n\n## Estimating the bandpower\n\nFirst, we will define the function estimating the bandpower on a time window. The\nbandpower will be estimated by integrating the power spectral density (PSD) on the\nfrequency band of interest, using the composite Simpson's rule\n(:func:`scipy.integrate.simpson`).\n\n"
      ]
    },
    {
      "cell_type": "code",
      "execution_count": null,
      "metadata": {
        "collapsed": false
      },
      "outputs": [],
      "source": [
        "def bandpower(\n    data: NDArray[np.float64],\n    fs: float,\n    method: str,\n    band: tuple[float, float],\n    relative: bool = True,\n    **kwargs,\n) -> NDArray[np.float64]:\n    \"\"\"Compute the bandpower of the individual channels.\n\n    Parameters\n    ----------\n    data : array of shape (n_channels, n_samples)\n        Data on which the the bandpower is estimated.\n    fs : float\n        Sampling frequency in Hz.\n    method : 'periodogram' | 'welch' | 'multitaper'\n        Method used to estimate the power spectral density.\n    band : tuple of shape (2,)\n        Frequency band of interest in Hz as 2 floats, e.g. ``(8, 13)``. The\n        edges are included.\n    relative : bool\n        If True, the relative bandpower is returned instead of the absolute\n        bandpower.\n    **kwargs : dict\n        Additional keyword arguments are provided to the power spectral density\n        estimation function.\n        * 'periodogram': scipy.signal.periodogram\n        * 'welch'``: scipy.signal.welch\n        * 'multitaper': mne.time_frequency.psd_array_multitaper\n\n        The only provided arguments are the data array and the sampling\n        frequency.\n\n    Returns\n    -------\n    bandpower : array of shape (n_channels,)\n        The bandpower of each channel.\n    \"\"\"\n    # compute the power spectral density\n    assert data.ndim == 2, (\n        \"The provided data must be a 2D array of shape (n_channels, n_samples).\"\n    )\n    if method == \"periodogram\":\n        freqs, psd = periodogram(data, fs, **kwargs)\n    elif method == \"welch\":\n        freqs, psd = welch(data, fs, **kwargs)\n    elif method == \"multitaper\":\n        psd, freqs = psd_array_multitaper(data, fs, verbose=\"ERROR\", **kwargs)\n    else:\n        raise RuntimeError(f\"The provided method '{method}' is not supported.\")\n    # compute the bandpower\n    assert len(band) == 2, \"The 'band' argument must be a 2-length tuple.\"\n    assert band[0] <= band[1], (\n        \"The 'band' argument must be defined as (low, high) (in Hz).\"\n    )\n    freq_res = freqs[1] - freqs[0]\n    idx_band = np.logical_and(freqs >= band[0], freqs <= band[1])\n    bandpower = simpson(psd[:, idx_band], dx=freq_res)\n    bandpower = bandpower / simpson(psd, dx=freq_res) if relative else bandpower\n    return bandpower"
      ]
    },
    {
      "cell_type": "markdown",
      "metadata": {},
      "source": [
        "## Real-time estimation on a rolling window\n\nNext, we can estimate the alpha band power on a rolling window of 4 seconds by running\nan infinite loop that reads the data from the stream and computes the bandpower on the\nlast 4 seconds of data.\n\n<div class=\"alert alert-info\"><h4>Note</h4><p>A chunk size of 200 samples is used to ensure stability in our documentation\n    build, but in practice, a real-time application will likely publish new samples\n    in smaller chunks and thus at a higher frequency. Due to the large chunk size,\n    the acquisition delay of the connected stream is also increased to reduce the\n    load on the CPU.</p></div>\n\n"
      ]
    },
    {
      "cell_type": "code",
      "execution_count": null,
      "metadata": {
        "collapsed": false
      },
      "outputs": [],
      "source": [
        "source_id = uuid.uuid4().hex\nwith PlayerLSL(raw, chunk_size=200, name=\"bandpower-example\", source_id=source_id):\n    stream = StreamLSL(bufsize=4, name=\"bandpower-example\", source_id=source_id)\n    stream.connect(acquisition_delay=0.1, processing_flags=\"all\")\n    stream.pick(\"eeg\").filter(1, 30)\n    stream.get_data()  # reset the number of new samples after the filter is applied\n\n    datapoints, times = [], []\n    while stream.n_new_samples < stream.n_buffer:\n        time.sleep(0.1)  # wait for the buffer to be entirely filled\n    while len(datapoints) != 30:\n        if stream.n_new_samples == 0:\n            continue  # wait for new samples\n        data, ts = stream.get_data()\n        bp = bandpower(data, stream.info[\"sfreq\"], \"periodogram\", band=(8, 13))\n        datapoints.append(bp)\n        times.append(ts[-1])\n    stream.disconnect()"
      ]
    },
    {
      "cell_type": "markdown",
      "metadata": {},
      "source": [
        "## Plot in function of time\n\nWe can now plot the rolling-window bandpower in function of time, using the timestamps\nof the last sample for each window on the X-axis. For simplicity, let's average all\nchannels together.\n\n"
      ]
    },
    {
      "cell_type": "code",
      "execution_count": null,
      "metadata": {
        "collapsed": false
      },
      "outputs": [],
      "source": [
        "f, ax = plt.subplots(1, 1, layout=\"constrained\")\nax.plot(times - times[0], [np.average(dp) * 100 for dp in datapoints])\nax.set_xlabel(\"Time (s)\")\nax.set_ylabel(\"Relative \u03b1 band power (%)\")\nplt.show()"
      ]
    },
    {
      "cell_type": "markdown",
      "metadata": {},
      "source": [
        "## Delay between 2 samples\n\nLet's also have a look at the delay between 2 data points, i.e. the overlap between\nthe windows.\n\n"
      ]
    },
    {
      "cell_type": "code",
      "execution_count": null,
      "metadata": {
        "collapsed": false
      },
      "outputs": [],
      "source": [
        "f, ax = plt.subplots(1, 1, layout=\"constrained\")\ntimedeltas = np.diff(times - times[0]) * 1000\nax.hist(timedeltas, bins=15)\nax.set_xlabel(\"Delay between 2 samples (ms)\")\nplt.show()"
      ]
    },
    {
      "cell_type": "markdown",
      "metadata": {},
      "source": [
        "<div class=\"alert alert-info\"><h4>Note</h4><p>Due to the low resources available on our CIs to build the documentation, some of\n    those datapoints might have been computed with 2 acquisition window of delay\n    instead of 1, yielding a delay between 2 samples of 2 acquisition windows instead\n    of 1. In practice, with a large chunk size of 200 samples, we should get a delay\n    between 2 computed time points to 200 samples, i.e. around 195.31 ms.</p></div>\n\n## Compare power spectral density estimation methods\n\nLet's compare both the bandpower estimation and the computation time of the different\nmethods to estimate the power spectral density.\n\n"
      ]
    },
    {
      "cell_type": "code",
      "execution_count": null,
      "metadata": {
        "collapsed": false
      },
      "outputs": [],
      "source": [
        "methods = (\"periodogram\", \"welch\", \"multitaper\")\nwith PlayerLSL(raw, chunk_size=200, name=\"bandpower-example\", source_id=source_id):\n    stream = StreamLSL(bufsize=4, name=\"bandpower-example\", source_id=source_id)\n    stream.connect(acquisition_delay=0.1, processing_flags=\"all\")\n    stream.pick(\"eeg\").filter(1, 30)\n    stream.get_data()  # reset the number of new samples after the filter is applied\n\n    datapoints, times = {method: [] for method in methods}, []\n    while stream.n_new_samples < stream.n_buffer:\n        time.sleep(0.1)  # wait for the buffer to be entirely filled\n    while len(datapoints[methods[0]]) != 30:\n        if stream.n_new_samples == 0:\n            continue  # wait for new samples\n        data, ts = stream.get_data()\n        for method in methods:\n            bp = bandpower(data, stream.info[\"sfreq\"], method, band=(8, 13))\n            datapoints[method].append(bp)\n        times.append(ts[-1])\n    stream.disconnect()\n\nf, ax = plt.subplots(1, 1, layout=\"constrained\")\nfor k, method in enumerate(methods):\n    ax.plot(\n        times - times[0],\n        [np.average(dp) * 100 for dp in datapoints[method]],\n        label=method,\n        color=colormaps[\"viridis\"].colors[k * 60 + 20],\n    )\nax.set_xlabel(\"Time (s)\")\nax.set_ylabel(\"Relative \u03b1 band power (%)\")\nax.legend()\nplt.show()"
      ]
    },
    {
      "cell_type": "markdown",
      "metadata": {},
      "source": [
        "For the computation time and the overall loop execution speed, we need to run each\nmethod on a separate loop.\n\n"
      ]
    },
    {
      "cell_type": "code",
      "execution_count": null,
      "metadata": {
        "collapsed": false
      },
      "outputs": [],
      "source": [
        "methods = (\"periodogram\", \"welch\", \"multitaper\")\nwith PlayerLSL(raw, chunk_size=200, name=\"bandpower-example\", source_id=source_id):\n    stream = StreamLSL(bufsize=4, name=\"bandpower-example\", source_id=source_id)\n    stream.connect(acquisition_delay=0.1, processing_flags=\"all\")\n    stream.pick(\"eeg\").filter(1, 30)\n    stream.get_data()  # reset the number of new samples after the filter is applied\n\n    times = {method: [] for method in methods}\n    while stream.n_new_samples < stream.n_buffer:\n        time.sleep(0.1)  # wait for the buffer to be entirely filled\n    for k, method in enumerate(methods):\n        while len(times[methods[k]]) != 30:\n            if stream.n_new_samples == 0:\n                continue  # wait for new samples\n            data, ts = stream.get_data()\n            bp = bandpower(data, stream.info[\"sfreq\"], method, band=(8, 13))\n            times[method].append(ts[-1])\n    stream.disconnect()\n\ntimedeltas = {\n    method: np.diff(times[method] - times[method][0]) * 1000 for method in methods\n}\ntimedeltas_average = {method: np.average(timedeltas[method]) for method in methods}\n\nfor method in methods:\n    print(\n        f\"Average delay between 2 samples for {method}: \"\n        f\"{timedeltas_average[method]:.2f} ms\"\n    )"
      ]
    },
    {
      "cell_type": "markdown",
      "metadata": {},
      "source": [
        "<div class=\"alert alert-info\"><h4>Note</h4><p>For this example, the average delay between 2 estimation of the bandpower is\n    similar between all 3 methods because we are waiting for new samples which come in\n    chunks of 200 samples, i.e. every 195.31 ms at the sampling frequency of 1024 Hz.\n    The figure obtained for a chunk size of 1 sample and an acquisition delay of 1 ms\n    is shown below.\n\n```python\nf, ax = plt.subplots(1, 1, layout=\"constrained\")\nfor k, method in enumerate(methods):\n    ax.hist(\n        timedeltas[method],\n        bins=15,\n        label=method,\n        color=colormaps[\"viridis\"].colors[k * 60 + 20],\n    )\nax.set_xlabel(\"Delay between 2 samples (ms)\")\nax.legend()\nplt.show()</p></div>\n```\n<img src=\"file://../../_static/tutorials/bp-performance.png\" align=\"center\">\n\n"
      ]
    }
  ],
  "metadata": {
    "kernelspec": {
      "display_name": "Python 3",
      "language": "python",
      "name": "python3"
    },
    "language_info": {
      "codemirror_mode": {
        "name": "ipython",
        "version": 3
      },
      "file_extension": ".py",
      "mimetype": "text/x-python",
      "name": "python",
      "nbconvert_exporter": "python",
      "pygments_lexer": "ipython3",
      "version": "3.13.2"
    }
  },
  "nbformat": 4,
  "nbformat_minor": 0
}
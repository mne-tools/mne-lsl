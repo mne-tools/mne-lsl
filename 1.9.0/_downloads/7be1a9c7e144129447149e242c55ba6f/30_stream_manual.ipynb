{
  "cells": [
    {
      "cell_type": "markdown",
      "metadata": {},
      "source": [
        "\n# Automatic vs Manual acquisition\n\n.. include:: ./../../links.inc\n\nThe :class:`~mne_lsl.stream.StreamLSL` object offers 2 mode of acquisition: automatic or\nmanual. In automatic mode, the stream object acquires new chunks of samples at a\nregular interval. In manual mode, the user has to call the\n:meth:`~mne_lsl.stream.StreamLSL.acquire` to acquire new chunks of samples from the\nnetwork. The automatic or manual acquisition is selected via the ``acquisition_delay``\nargument of :meth:`~mne_lsl.stream.StreamLSL.connect`:\n\n- a non-zero positive integer value will set the acquisition to automatic mode with the\n  specified delay in seconds.\n- ``0`` will set the acquisition to manual mode.\n\n## Automatic acquisition\n\nWhen the stream is set to automatically acquire new samples at a regular interval, a\nbackground thread is created with :class:`concurrent.futures.ThreadPoolExecutor`. The\nbackground thread is periodically receives a job to acquire new samples from the\nnetwork.\n\n.. important::\n\n    If the main thread is hogging all of the CPU resources, the delay between two\n    acquisition job might be longer than the specified delay. The background thread\n    will always do its best to acquire new samples at the specified delay, but it is not\n    able to do so if the CPU is busy.\n"
      ]
    },
    {
      "cell_type": "code",
      "execution_count": null,
      "metadata": {
        "collapsed": false
      },
      "outputs": [],
      "source": [
        "import uuid\nfrom time import sleep\n\nfrom matplotlib import pyplot as plt\n\nfrom mne_lsl.datasets import sample\nfrom mne_lsl.player import PlayerLSL\nfrom mne_lsl.stream import StreamLSL\n\n# create a mock LSL stream for this tutorial\nfname = sample.data_path() / \"sample-ant-raw.fif\"\nsource_id = uuid.uuid4().hex\nplayer = PlayerLSL(fname, chunk_size=200, source_id=source_id).start()\nplayer.info"
      ]
    },
    {
      "cell_type": "markdown",
      "metadata": {},
      "source": [
        "<div class=\"alert alert-info\"><h4>Note</h4><p>A ``chunk_size`` of 200 samples is used here to ensure stability and reliability\n    while building the documentation on the CI. In practice, a ``chunk_size`` of 200\n    samples is too large to represent a real-time application.</p></div>\n\n"
      ]
    },
    {
      "cell_type": "code",
      "execution_count": null,
      "metadata": {
        "collapsed": false
      },
      "outputs": [],
      "source": [
        "stream = StreamLSL(bufsize=2, source_id=source_id).connect(acquisition_delay=0.1)\nsleep(2)  # wait for new samples\nprint(f\"New samples acquired: {stream.n_new_samples}\")\nstream.disconnect()"
      ]
    },
    {
      "cell_type": "markdown",
      "metadata": {},
      "source": [
        "## Manual acquisition\n\nIn manual acquisition mode, the user has to call the\n:meth:`~mne_lsl.stream.StreamLSL.acquire` to get new samples from the network. In this\nmode, all operation happens in the main thread and the user has full control over when\nto acquire new samples.\n\n"
      ]
    },
    {
      "cell_type": "code",
      "execution_count": null,
      "metadata": {
        "collapsed": false
      },
      "outputs": [],
      "source": [
        "stream = StreamLSL(bufsize=2, source_id=source_id).connect(acquisition_delay=None)\nsleep(2)  # wait for new samples\nprint(f\"New samples acquired (before stream.acquire()): {stream.n_new_samples}\")\nstream.acquire()\nprint(f\"New samples acquired (after stream.acquire()): {stream.n_new_samples}\")"
      ]
    },
    {
      "cell_type": "markdown",
      "metadata": {},
      "source": [
        "However, it is also now up to the user to make sure he acquires new samples regularly\nand does not miss part of the stream. The created :class:`~mne_lsl.lsl.StreamInlet`\nhas its buffer set to the same value as the :class:`~mne_lsl.stream.StreamLSL` object.\n\n"
      ]
    },
    {
      "cell_type": "code",
      "execution_count": null,
      "metadata": {
        "collapsed": false
      },
      "outputs": [],
      "source": [
        "stream.acquire()\ndata1, ts1 = stream.get_data(picks=\"Cz\")\nsleep(4)  # wait for 2 buffers\nstream.acquire()\ndata2, ts2 = stream.get_data(picks=\"Cz\")\n\nf, ax = plt.subplots(1, 1, layout=\"constrained\")\nax.plot(ts1 - ts1[0], data1.squeeze(), color=\"blue\", label=\"acq 1\")\nax.plot(ts2 - ts1[0], data2.squeeze(), color=\"red\", label=\"acq 2\")\nax.legend()\nax.set_xlabel(\"Time (s)\")\nax.set_ylabel(\"EEG amplitude\")\nplt.show()"
      ]
    },
    {
      "cell_type": "markdown",
      "metadata": {},
      "source": [
        "## Free resources\n\nWhen you are done with a :class:`~mne_lsl.player.PlayerLSL` or\n:class:`~mne_lsl.stream.StreamLSL`, don't forget to free the resources they both use\nto continuously mock an LSL stream or receive new data from an LSL stream.\n\n"
      ]
    },
    {
      "cell_type": "code",
      "execution_count": null,
      "metadata": {
        "collapsed": false
      },
      "outputs": [],
      "source": [
        "stream.disconnect()"
      ]
    },
    {
      "cell_type": "code",
      "execution_count": null,
      "metadata": {
        "collapsed": false
      },
      "outputs": [],
      "source": [
        "player.stop()"
      ]
    }
  ],
  "metadata": {
    "kernelspec": {
      "display_name": "Python 3",
      "language": "python",
      "name": "python3"
    },
    "language_info": {
      "codemirror_mode": {
        "name": "ipython",
        "version": 3
      },
      "file_extension": ".py",
      "mimetype": "text/x-python",
      "name": "python",
      "nbconvert_exporter": "python",
      "pygments_lexer": "ipython3",
      "version": "3.13.2"
    }
  },
  "nbformat": 4,
  "nbformat_minor": 0
}
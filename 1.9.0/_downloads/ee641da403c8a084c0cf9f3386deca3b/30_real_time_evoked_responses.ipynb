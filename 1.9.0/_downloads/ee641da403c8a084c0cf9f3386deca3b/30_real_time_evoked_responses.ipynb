{
  "cells": [
    {
      "cell_type": "markdown",
      "metadata": {},
      "source": [
        "\n# Real-time evoked responses\n\nWith a :class:`~mne_lsl.stream.EpochsStream`, we can build a real-time evoked response\nvisualization. This is useful to monitor the brain activity in real-time.\n"
      ]
    },
    {
      "cell_type": "code",
      "execution_count": null,
      "metadata": {
        "collapsed": false
      },
      "outputs": [],
      "source": [
        "import uuid\n\nimport numpy as np\nfrom matplotlib import pyplot as plt\nfrom mne import EvokedArray, combine_evoked\nfrom mne.io import read_raw_fif\n\nfrom mne_lsl.datasets import sample\nfrom mne_lsl.player import PlayerLSL\nfrom mne_lsl.stream import EpochsStream, StreamLSL\nfrom mne_lsl.utils.logs import logger\n\n# dataset used in the example\nfname = sample.data_path() / \"mne-sample\" / \"sample_audvis_raw.fif\"\nraw = read_raw_fif(fname, preload=False).pick((\"meg\", \"stim\")).load_data()"
      ]
    },
    {
      "cell_type": "markdown",
      "metadata": {},
      "source": [
        "First, we create a mock stream with :class:`mne_lsl.player.PlayerLSL` from the sample\ndataset and connect a :class:`~mne_lsl.stream.StreamLSL` to it. Then, we attach a\n:class:`~mne_lsl.stream.EpochsStream` object to create epochs from the LSL stream.\nThe epochs will be created around the event ID ``1`` from the ``'STI 014'`` channel.\n\n<div class=\"alert alert-info\"><h4>Note</h4><p>A ``chunk_size`` of 200 samples is used here to ensure stability and reliability\n    while building the documentation on the CI. In practice, a ``chunk_size`` of 200\n    samples is too large to represent a real-time application.</p></div>\n\n"
      ]
    },
    {
      "cell_type": "code",
      "execution_count": null,
      "metadata": {
        "collapsed": false
      },
      "outputs": [],
      "source": [
        "source_id = uuid.uuid4().hex\nwith PlayerLSL(\n    raw, chunk_size=200, name=\"real-time-evoked-example\", source_id=source_id\n):\n    stream = StreamLSL(bufsize=4, name=\"real-time-evoked-example\", source_id=source_id)\n    stream.connect(acquisition_delay=0.1, processing_flags=\"all\")\n    stream.info[\"bads\"] = [\"MEG 2443\"]\n    stream.filter(None, 40, picks=\"grad\")\n    epochs = EpochsStream(\n        stream,\n        bufsize=20,\n        event_id=1,\n        event_channels=\"STI 014\",\n        tmin=-0.2,\n        tmax=0.5,\n        baseline=(None, 0),\n        picks=\"grad\",\n    )\n    epochs.connect(acquisition_delay=0.1)\n\n    # create figure\n    if not plt.isinteractive():\n        plt.ion()\n    fig, ax = plt.subplots()\n    plt.show()\n\n    # start looking for epochs\n    n = 0  # number of epochs\n    evoked = None\n    while n < 20:\n        if epochs.n_new_epochs == 0:\n            continue  # nothing new to do\n        logger.info(\"Got %s / %s new epochs.\", epochs.n_new_epochs, n)\n        n += epochs.n_new_epochs\n        # get data and create evoked array\n        data = epochs.get_data(n_epochs=epochs.n_new_epochs)\n        new_evoked = EvokedArray(\n            np.average(data, axis=0), epochs.info, nave=data.shape[0]\n        )\n        evoked = (\n            new_evoked\n            if evoked is None\n            else combine_evoked([evoked, new_evoked], weights=\"nave\")\n        )\n        evoked.nave = n  # overwrite to avoid numerical approximation error\n        ax.clear()\n        evoked.plot(axes=ax, time_unit=\"s\")  # plot on current figure\n        fig.canvas.draw()\n        fig.canvas.flush_events()\n\n    # clean-up\n    epochs.disconnect()\n    stream.disconnect()"
      ]
    }
  ],
  "metadata": {
    "kernelspec": {
      "display_name": "Python 3",
      "language": "python",
      "name": "python3"
    },
    "language_info": {
      "codemirror_mode": {
        "name": "ipython",
        "version": 3
      },
      "file_extension": ".py",
      "mimetype": "text/x-python",
      "name": "python",
      "nbconvert_exporter": "python",
      "pygments_lexer": "ipython3",
      "version": "3.13.2"
    }
  },
  "nbformat": 4,
  "nbformat_minor": 0
}
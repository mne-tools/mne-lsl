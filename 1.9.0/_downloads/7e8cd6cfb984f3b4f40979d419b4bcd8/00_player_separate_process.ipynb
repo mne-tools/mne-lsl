{
  "cells": [
    {
      "cell_type": "markdown",
      "metadata": {},
      "source": [
        "\n# Replaying a file in a separate process\n\nWith a :class:`~mne_lsl.player.PlayerLSL` object, you can replay an MNE-Python readable\nfile as a valid LSL stream. This is very useful for testing or debugging purposes. The\ncreated LSL stream is managed in the main process, as a separate thread. Thus, if the\ncode running the main process is hogging all of the CPU resources, then the\n:class:`~mne_lsl.player.PlayerLSL` object may not be able to keep up with the LSL stream\nand to push (publish) new data when it should. This is why it is often useful to run the\n:class:`~mne_lsl.player.PlayerLSL` object in a separate process.\n\n## Single process execution\n\nLet's start by demonstrating the issue with a single process where the main thread is\nhogging all of the CPU resources, leaving almost nothing for the\n:class:`~mne_lsl.player.PlayerLSL` thread to run and mock the LSL stream.\n"
      ]
    },
    {
      "cell_type": "code",
      "execution_count": null,
      "metadata": {
        "collapsed": false
      },
      "outputs": [],
      "source": [
        "import multiprocessing as mp\nimport time\n\nfrom mne.io import read_raw_fif\n\nfrom mne_lsl.datasets import sample\nfrom mne_lsl.player import PlayerLSL as Player\n\nraw = read_raw_fif(sample.data_path() / \"sample-ecg-raw.fif\", preload=False)\nraw.crop(0, 3).load_data()\nplayer = Player(raw, chunk_size=200, n_repeat=1, name=\"example-process\")\nplayer"
      ]
    },
    {
      "cell_type": "markdown",
      "metadata": {},
      "source": [
        "<div class=\"alert alert-info\"><h4>Note</h4><p>Note that we use a ``chunk_size`` of 200 samples which does replicate a real-time\n    scenario where the LSL stream is usually using finer granularity (specific to the\n    device and LSL stream application). However, this large chunk size provides\n    stability to the documentation build on our CIs.</p></div>\n\nThe smaller the chunk size, the more resources are needed by the\n:class:`~mne_lsl.player.PlayerLSL` object to keep up with the LSL stream. This is why\nwith a chunk size of 200 samples, we don't observe a difference between a main thread\ngiving time to the player to run (scenario 1, while loop with :func:`time.sleep` calls\nto create idle time) and a main thread hogging all of the CPU resources (scenario 2,\nwhile loop without any idle time).\n\n"
      ]
    },
    {
      "cell_type": "code",
      "execution_count": null,
      "metadata": {
        "collapsed": false
      },
      "outputs": [],
      "source": [
        "# scenario 1: give time to the player to run\nstart = time.time()\nplayer.start()\nwhile player.running:\n    time.sleep(0.5)\nstop = time.time()\nprint(f\"Elapsed time (free time): {stop - start:.2f} s\")\n\n# scenario 2: hog all of the CPU resources\nstart = time.time()\nplayer.start()\nwhile player.running:\n    pass\nstop = time.time()\nprint(f\"Elapsed time (hogging): {stop - start:.2f} s\")\n\n# clean-up resources\ndel player"
      ]
    },
    {
      "cell_type": "markdown",
      "metadata": {},
      "source": [
        "If you run the code above with a ``chunk_size`` of 10 samples, or of 1 sample, you\nwill observe the following difference in elapsed time:\n\n- chunk size of 10 samples:\n\n  - 3.5 seconds for scenario 1 (due to one extra sleep call)\n  - 7.4 seconds for scenario 2\n\n- chunk size of 1 sample:\n\n  - 3.5 seconds for scenario 1 (due to one extra sleep call)\n  - 68.8 seconds for scenario 2\n\n## Multi-process execution\n\nTo avoid this problem, we can run the :class:`~mne_lsl.player.PlayerLSL` object in a\nseparate process. This way, the main process can hog all of the CPU resources without\naffecting the player process.\n\nThis can be achieved in the following ways:\n\n- use the command-line entry point to run the player in a separate terminal\n\n```bash\n$ mne_lsl_player sample-ecg-raw.fif --chunk-size 1 --n-repeat 1\n```\n- use the python API to run the player in a separate python interpreter\n- use the python API and the ``multiprocessing`` module to run the player in a\n  separate process\n\nHere, we demonstrate the last option.\n\n<div class=\"alert alert-info\"><h4>Note</h4><p>On Windows, the ``process`` creation and execurtion must be protected behind an\n    ``if __name__ == \"__main__\":`` block. This is not necessary on Unix systems, on\n    which this documentation is built.</p></div>\n\n"
      ]
    },
    {
      "cell_type": "code",
      "execution_count": null,
      "metadata": {
        "collapsed": false
      },
      "outputs": [],
      "source": [
        "def player_process(raw):\n    \"\"\"Process which runs the player.\"\"\"\n    from mne_lsl.player import PlayerLSL\n\n    player = PlayerLSL(raw, chunk_size=200, n_repeat=1, name=\"example-process-2\")\n    player.start()\n    while player.running:\n        pass\n\n\nprocess = mp.Process(target=player_process, args=(raw,))\nprocess.start()\nprint(\"Player started in a separate process!\")\nprocess.join()"
      ]
    },
    {
      "cell_type": "markdown",
      "metadata": {},
      "source": [
        "This is still a bit too simplistic. The process takes time to actually start, thus\nwhen the print is emitted, the player has not yet started. To fix this, we can use a\nshared variable to signal when the player has started. This shared variable can also\nbe used to interrupt the player process from the main process.\n\n"
      ]
    },
    {
      "cell_type": "code",
      "execution_count": null,
      "metadata": {
        "collapsed": false
      },
      "outputs": [],
      "source": [
        "def player_process(raw, status):\n    \"\"\"Process which runs the process.\"\"\"\n    from mne_lsl.player import PlayerLSL\n\n    player = PlayerLSL(raw, chunk_size=200, name=\"example-process-3\")\n    player.start()\n    status.value = 1\n    while status.value:\n        pass\n    player.stop()\n\n\nmanager = mp.Manager()\n# integer value, used to store 0 or 1 to turn off the player\nstatus = manager.Value(\"i\", 0)\nprocess = mp.Process(target=player_process, args=(raw, status))\nprocess.start()\nwhile status.value != 1:\n    pass  # wait for the player to actually start\nprint(\"Player started in a separate process!\")\nstatus.value = 0  # stops the player\nprocess.join()"
      ]
    }
  ],
  "metadata": {
    "kernelspec": {
      "display_name": "Python 3",
      "language": "python",
      "name": "python3"
    },
    "language_info": {
      "codemirror_mode": {
        "name": "ipython",
        "version": 3
      },
      "file_extension": ".py",
      "mimetype": "text/x-python",
      "name": "python",
      "nbconvert_exporter": "python",
      "pygments_lexer": "ipython3",
      "version": "3.13.2"
    }
  },
  "nbformat": 4,
  "nbformat_minor": 0
}
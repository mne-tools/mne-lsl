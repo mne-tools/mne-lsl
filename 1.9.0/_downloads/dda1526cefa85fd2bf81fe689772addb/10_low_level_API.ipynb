{
  "cells": [
    {
      "cell_type": "markdown",
      "metadata": {},
      "source": [
        "\n\n# Low-level LSL API\n\n.. include:: ./../../links.inc\n\nLSL is a library designed for streaming time series data across different platforms and\nprogramming languages. The [core library](lsl lib_) is primarily written in C++, and\nbindings are accessible for Python, C#, Java, MATLAB, and Unity, among others. You can\nfind a comprehensive list [here](lsl language bindings_).\n\nMNE-LSL provides a reimplementation of the [python binding](lsl python_), known as\n``pylsl``, within the ``mne_lsl.lsl`` module. It introduces additional functionalities\nto simplify the low-level interaction with LSL streams. Moreover, it enhances the\ndetection of liblsl on your system and can retrieve a compatible version online if\nnecessary. The differences between ``pylsl`` and ``mne_lsl.lsl`` are detailed\n`here<resources/pylsl:Differences with pylsl>`.\n"
      ]
    },
    {
      "cell_type": "code",
      "execution_count": null,
      "metadata": {
        "collapsed": false
      },
      "outputs": [],
      "source": [
        "import time\nimport uuid\n\nimport numpy as np\n\nfrom mne_lsl.lsl import (\n    StreamInfo,\n    StreamInlet,\n    StreamOutlet,\n    local_clock,\n    resolve_streams,\n)"
      ]
    },
    {
      "cell_type": "markdown",
      "metadata": {},
      "source": [
        "## Creating a stream\n\nTo create a stream, you must first define its properties. This is achieved by creating\na :class:`~mne_lsl.lsl.StreamInfo` object, which specifies the stream's name, type,\nsource and properties. Convenience methods are available to set the channel\nproperties, including :meth:`~mne_lsl.lsl.StreamInfo.set_channel_info`, which uses a\n:class:`mne.Info` object as source.\n\n"
      ]
    },
    {
      "cell_type": "code",
      "execution_count": null,
      "metadata": {
        "collapsed": false
      },
      "outputs": [],
      "source": [
        "sinfo = StreamInfo(\n    name=\"my-stream\",\n    stype=\"eeg\",\n    n_channels=3,\n    sfreq=1024,\n    dtype=\"float32\",\n    source_id=uuid.uuid4().hex,\n)\nsinfo.set_channel_names([\"Fz\", \"Cz\", \"Oz\"])\nsinfo.set_channel_types(\"eeg\")\nsinfo.set_channel_units(\"microvolts\")"
      ]
    },
    {
      "cell_type": "markdown",
      "metadata": {},
      "source": [
        "Once the :class:`~mne_lsl.lsl.StreamInfo` object is created, a\n:class:`~mne_lsl.lsl.StreamOutlet` can be instantiated to create the stream.\n\n"
      ]
    },
    {
      "cell_type": "code",
      "execution_count": null,
      "metadata": {
        "collapsed": false
      },
      "outputs": [],
      "source": [
        "outlet = StreamOutlet(sinfo)"
      ]
    },
    {
      "cell_type": "markdown",
      "metadata": {},
      "source": [
        "## Discover streams\n\nAt this point, the :class:`~mne_lsl.lsl.StreamOutlet` is available on the network. The\nfunction :func:`~mne_lsl.lsl.resolve_streams` discovers all available streams on the\nnetwork. This operation is commonly named the stream resolution.\n\n<div class=\"alert alert-info\"><h4>Note</h4><p>The stream resolution can be restricted by providing the ``name``, ``stype``, and\n    ``source_id`` arguments.</p></div>\n\n"
      ]
    },
    {
      "cell_type": "code",
      "execution_count": null,
      "metadata": {
        "collapsed": false
      },
      "outputs": [],
      "source": [
        "streams = resolve_streams()\nassert len(streams) == 1\nstreams[0]"
      ]
    },
    {
      "cell_type": "markdown",
      "metadata": {},
      "source": [
        "The resolution retrieves only the stream basic properties. The channel properties,\nstored in the stream description in an XML element tree, are absent from a\n:class:`~mne_lsl.lsl.StreamInfo` returned by the resolution function.\n\n"
      ]
    },
    {
      "cell_type": "code",
      "execution_count": null,
      "metadata": {
        "collapsed": false
      },
      "outputs": [],
      "source": [
        "assert streams[0].get_channel_names() is None"
      ]
    },
    {
      "cell_type": "markdown",
      "metadata": {},
      "source": [
        "## Connect to a Stream\n\nTo connect to a stream, a :class:`~mne_lsl.lsl.StreamInlet` object must be created\nusing the resolved :class:`~mne_lsl.lsl.StreamInfo`. Once the stream is opened with\n:meth:`~mne_lsl.lsl.StreamInlet.open_stream`, the connection is established and\nboth the properties and data become available.\n\n"
      ]
    },
    {
      "cell_type": "code",
      "execution_count": null,
      "metadata": {
        "collapsed": false
      },
      "outputs": [],
      "source": [
        "inlet = StreamInlet(streams[0])\ninlet.open_stream()\nsinfo = inlet.get_sinfo()  # retrieve stream information with all properties"
      ]
    },
    {
      "cell_type": "code",
      "execution_count": null,
      "metadata": {
        "collapsed": false
      },
      "outputs": [],
      "source": [
        "sinfo.get_channel_names()"
      ]
    },
    {
      "cell_type": "code",
      "execution_count": null,
      "metadata": {
        "collapsed": false
      },
      "outputs": [],
      "source": [
        "sinfo.get_channel_types()"
      ]
    },
    {
      "cell_type": "code",
      "execution_count": null,
      "metadata": {
        "collapsed": false
      },
      "outputs": [],
      "source": [
        "sinfo.get_channel_units()"
      ]
    },
    {
      "cell_type": "markdown",
      "metadata": {},
      "source": [
        "An :class:`mne.Info` can be obtained directly with\n:meth:`~mne_lsl.lsl.StreamInfo.get_channel_info`. If the information contained in the\nXML element tree can not be parsed, default values are used. For instance, the channel\nnames are replaced by the channel numbers similarly to :func:`mne.create_info`.\n\n"
      ]
    },
    {
      "cell_type": "code",
      "execution_count": null,
      "metadata": {
        "collapsed": false
      },
      "outputs": [],
      "source": [
        "sinfo.get_channel_info()"
      ]
    },
    {
      "cell_type": "markdown",
      "metadata": {},
      "source": [
        "## Push/Pull operations\n\nFor new data to be received, it first need to be pushed on the\n:class:`~mne_lsl.lsl.StreamOutlet`. 2 methods are available:\n\n* :meth:`~mne_lsl.lsl.StreamOutlet.push_sample` to push an individual sample of shape\n  (n_channels,)\n* :meth:`~mne_lsl.lsl.StreamOutlet.push_chunk` to push a chunk of samples of shape\n  (n_samples, n_channels)\n\n"
      ]
    },
    {
      "cell_type": "code",
      "execution_count": null,
      "metadata": {
        "collapsed": false
      },
      "outputs": [],
      "source": [
        "outlet.push_sample(np.array([1, 2, 3]))"
      ]
    },
    {
      "cell_type": "markdown",
      "metadata": {},
      "source": [
        "Once pushed, samples become available at the client end. 2 methods are available to\nretrieve samples:\n\n* :meth:`~mne_lsl.lsl.StreamInlet.pull_sample` to pull an individual sample of shape\n  (n_channels,)\n* :meth:`~mne_lsl.lsl.StreamInlet.pull_chunk` to pull a chunk of samples of shape\n  (n_samples, n_channels)\n\n"
      ]
    },
    {
      "cell_type": "code",
      "execution_count": null,
      "metadata": {
        "collapsed": false
      },
      "outputs": [],
      "source": [
        "# give a bit of time to the documentation build after the execution of the last cell\ntime.sleep(0.01)\nassert inlet.samples_available == 1\ndata, ts = inlet.pull_sample()\nassert inlet.samples_available == 0\ndata"
      ]
    },
    {
      "cell_type": "markdown",
      "metadata": {},
      "source": [
        "## LSL clock\n\nThe local system timestamp is retrieved with :func:`~mne_lsl.lsl.local_clock`. This\nlocal timestamp can be compared with the LSL timestamp from acquired data.\n\n"
      ]
    },
    {
      "cell_type": "code",
      "execution_count": null,
      "metadata": {
        "collapsed": false
      },
      "outputs": [],
      "source": [
        "now = local_clock()\nprint(f\"Timestamp of the acquired data: {ts}\")\nprint(f\"Current time: {now}\")\nprint(f\"Delta: {now - ts} seconds\")"
      ]
    },
    {
      "cell_type": "markdown",
      "metadata": {},
      "source": [
        "## Free resources\n\nWhen you are done with a :class:`~mne_lsl.lsl.StreamInlet` or\n:class:`~mne_lsl.lsl.StreamOutlet`, don't forget to free the resources they both use.\n\n"
      ]
    },
    {
      "cell_type": "code",
      "execution_count": null,
      "metadata": {
        "collapsed": false
      },
      "outputs": [],
      "source": [
        "inlet.close_stream()\ndel inlet\ndel outlet"
      ]
    }
  ],
  "metadata": {
    "kernelspec": {
      "display_name": "Python 3",
      "language": "python",
      "name": "python3"
    },
    "language_info": {
      "codemirror_mode": {
        "name": "ipython",
        "version": 3
      },
      "file_extension": ".py",
      "mimetype": "text/x-python",
      "name": "python",
      "nbconvert_exporter": "python",
      "pygments_lexer": "ipython3",
      "version": "3.13.2"
    }
  },
  "nbformat": 4,
  "nbformat_minor": 0
}
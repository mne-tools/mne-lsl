{
  "cells": [
    {
      "cell_type": "markdown",
      "metadata": {},
      "source": [
        "\n# Introduction to real-time LSL streams\n\n.. include:: ./../../links.inc\n\n\nLSL is an open-source networked middleware ecosystem to stream, receive, synchronize,\nand record neural, physiological, and behavioral data streams acquired from diverse\nsensor hardware. It reduces complexity and barriers to entry for researchers, sensor\nmanufacturers, and users through a simple, interoperable, standardized API to connect\ndata consumers to data producers while abstracting obstacles such as platform\ndifferences, stream discovery, synchronization and fault-tolerance.\nSource: [LabStreamingLayer website](lsl_).\n\nIn real-time applications, a server emits a data stream, and one or more clients connect\nto the server to receive this data. In LSL terminology, the server is referred to as a\n:class:`~mne_lsl.lsl.StreamOutlet`, while the client is referred to as a\n:class:`~mne_lsl.lsl.StreamInlet`. The power of LSL resides in its ability to facilitate\ninteroperability and synchronization among streams. Clients have the capability to\nconnect to multiple servers, which may be running on the same or different computers\n(and therefore different platforms/operating systems), and synchronize the streams\noriginating from these various servers.\n\nMNE-LSL enhances the LSL API by offering a high-level interface akin to the\n[MNE-Python](mne stable_) API. While this tutorial concentrates on the high-level API,\ndetailed coverage of the low-level LSL API is provided in\n`this separate tutorial <tut-low-level-api>`.\n\n## Concepts\n\nIn essence, a real-time LSL stream can be envisioned as a perpetual recording, akin to\na :class:`mne.io.Raw` instance, characterized by an indeterminate length and providing\naccess solely to current and preceding samples. In memory, it can be depicted as a ring\nbuffer, also known as a circular buffer, a data structure employing a single, unchanging\nbuffer size, seemingly interconnected end-to-end.\n\n<img src=\"file://../../_static/tutorials/circular-buffer-light.png\" align=\"center\" class=\"only-light\">\n\n<img src=\"file://../../_static/tutorials/circular-buffer-dark.png\" align=\"center\" class=\"only-dark\">\n\nWithin a ring buffer, there are two pivotal pointers:\n\n* The \"head\" pointer, also referred to as \"start\" or \"read,\" indicates the subsequent\n  data block available for reading.\n* The \"tail\" pointer, known as \"end\" or \"write,\" designates the forthcoming data block\n  to be replaced with fresh data.\n\nIn a ring buffer configuration, when the \"tail\" pointer aligns with the \"head\" pointer,\ndata is overwritten before it can be accessed. Conversely, the \"head\" pointer cannot\nsurpass the \"tail\" pointer; it will always lag at least one sample behind. In all cases,\nit falls upon the user to routinely inspect and fetch samples from the ring buffer,\nthereby advancing the \"head\" pointer.\n\nWithin MNE-LSL, the :class:`~mne_lsl.stream.StreamLSL` object manages a ring buffer\ninternally, which is continuously refreshed with new samples. Notably, the two pointers\nare concealed, with the head pointer being automatically adjusted to the latest received\nsample. Given the preference for accessing the most recent information in neural,\nphysiological, and behavioral real-time applications, this operational approach\nstreamlines interaction with LSL streams and mitigates the risk of users accessing\noutdated data.\n\n## Mocking an LSL stream\n\nTo build real-time applications or showcase their functionalities, such as in this\ntutorial, it's essential to generate simulated LSL streams. This involves creating a\n:class:`~mne_lsl.lsl.StreamOutlet` and regularly sending data through it.\n\nWithin MNE-LSL, the :class:`~mne_lsl.player.PlayerLSL` generates a simulated LSL stream\nutilizing data from a :class:`mne.io.Raw` file or object. This stream inherits its\ndescription and channel specifications from the associated :class:`~mne.Info`. This\ninformation encompasses channel properties, channel locations, filters, digitization,\nand `SSP projectors`_. The :class:`~mne_lsl.player.PlayerLSL` subsequently publishes\ndata at regular intervals and seamlessly loops back to the starting point once the end\nof the file is reached.\n"
      ]
    },
    {
      "cell_type": "code",
      "execution_count": null,
      "metadata": {
        "collapsed": false
      },
      "outputs": [],
      "source": [
        "import time\nimport uuid\n\nfrom matplotlib import pyplot as plt\nfrom mne import set_log_level\n\nfrom mne_lsl.datasets import sample\nfrom mne_lsl.player import PlayerLSL as Player\nfrom mne_lsl.stream import StreamLSL as Stream\n\nset_log_level(\"WARNING\")"
      ]
    },
    {
      "cell_type": "markdown",
      "metadata": {},
      "source": [
        "<div class=\"alert alert-info\"><h4>Note</h4><p>The argument ``source_id`` can be omitted most of the time. But for reliability in\n    our documentation build on CIs, we assign a random unique identifier to each\n    mock stream created.</p></div>\n\n"
      ]
    },
    {
      "cell_type": "code",
      "execution_count": null,
      "metadata": {
        "collapsed": false
      },
      "outputs": [],
      "source": [
        "source_id = uuid.uuid4().hex\nfname = sample.data_path() / \"sample-ant-raw.fif\"\nplayer = Player(fname, chunk_size=200, source_id=source_id).start()\nplayer.info"
      ]
    },
    {
      "cell_type": "markdown",
      "metadata": {},
      "source": [
        "Once the :meth:`~mne_lsl.player.PlayerLSL.start` is called, data is published at\nregular intervals. The interval duration depends on the sampling rate and on the\nnumber of samples pushed at once, defined by the ``chunk_size`` argument of the\n:class:`~mne_lsl.player.PlayerLSL` object.\n\n<div class=\"alert alert-info\"><h4>Note</h4><p>The default setting for chunk_size is ``10``. In real-time applications, there may\n    be advantages to employing smaller chunk sizes for data publication, but to build\n    the documentation website or to run test successfully on CIs, a larger chunk size\n    is used to reduce the number of push operations and improve stability.</p></div>\n\n"
      ]
    },
    {
      "cell_type": "code",
      "execution_count": null,
      "metadata": {
        "collapsed": false
      },
      "outputs": [],
      "source": [
        "sfreq = player.info[\"sfreq\"]\nchunk_size = player.chunk_size\ninterval = chunk_size / sfreq  # in seconds\nprint(f\"Interval between 2 push operations: {interval} seconds.\")"
      ]
    },
    {
      "cell_type": "markdown",
      "metadata": {},
      "source": [
        "A :class:`~mne_lsl.player.PlayerLSL` can also stream annotations attached to the\n:class:`mne.io.Raw` object. Annotations are streamed on a second irregularly sampled\n:class:`~mne_lsl.lsl.StreamOutlet`. See\n`this separate tutorial <tut-player-annotations>` for additional information.\n\n## Subscribing to an LSL stream\n\nWith the mock LSL stream operational in the background, we can proceed to subscribe to\nthis stream and access both its description and the data stored within its buffer. The\n:class:`~mne_lsl.stream.StreamLSL` object operates both the underlying\n:class:`~mne_lsl.lsl.StreamInlet` and the ring buffer, which size must be\nexplicitly set upon creation.\n\n<div class=\"alert alert-info\"><h4>Note</h4><p>A :class:`~mne_lsl.stream.StreamLSL` can connect to a single LSL stream. Thus, if\n    multiple LSL stream are present on the network, it's crucial to uniquely identify\n    a specific LSL stream using the ``name``, ``stype``, and ``source_id`` arguments\n    of the :class:`~mne_lsl.stream.StreamLSL` object.</p></div>\n\nThe stream description is automatically parsed into an :class:`mne.Info` upon\nconnection with the method :meth:`mne_lsl.stream.StreamLSL.connect`.\n\n"
      ]
    },
    {
      "cell_type": "code",
      "execution_count": null,
      "metadata": {
        "collapsed": false
      },
      "outputs": [],
      "source": [
        "stream = Stream(bufsize=2, source_id=source_id).connect()\nstream.info"
      ]
    },
    {
      "cell_type": "markdown",
      "metadata": {},
      "source": [
        "Interaction with a :class:`~mne_lsl.stream.StreamLSL` is similar to the interaction\nwith a :class:`mne.io.Raw`. In this example, the stream is mocked from a 64 channels\nEEG recording with an ANT Neuro amplifier. It includes 63 EEG, 2 EOG, 1 ECG, 1 EDA, 1\nSTIM channel, and uses CPz as reference.\n\n"
      ]
    },
    {
      "cell_type": "code",
      "execution_count": null,
      "metadata": {
        "collapsed": false
      },
      "outputs": [],
      "source": [
        "ch_types = stream.get_channel_types(unique=True)\nprint(f\"Channel types included: {', '.join(ch_types)}\")"
      ]
    },
    {
      "cell_type": "markdown",
      "metadata": {},
      "source": [
        "Operations such as channel selection, re-referencing, and filtering are performed\ndirectly on the ring buffer. For instance, we can select the EEG channels, add the\nmissing reference channel and re-reference using a common average referencing scheme\nwhich will reduce the ring buffer to 64 channels.\n\n<div class=\"alert alert-info\"><h4>Note</h4><p>By design, once a re-referencing operation is performed or if at least one filter\n    is applied, it is not possible anymore to select a subset of channels with the\n    methods :meth:`~mne_lsl.stream.StreamLSL.pick` or\n    :meth:`~mne_lsl.stream.StreamLSL.drop_channels`. Note that the re-referencing is\n    not reversible while filters can be removed with the method\n    :meth:`~mne_lsl.stream.StreamLSL.del_filter`.</p></div>\n\n"
      ]
    },
    {
      "cell_type": "code",
      "execution_count": null,
      "metadata": {
        "collapsed": false
      },
      "outputs": [],
      "source": [
        "stream.pick(\"eeg\")  # channel selection\nassert \"CPz\" not in stream.ch_names  # reference absent from the data stream\nstream.add_reference_channels(\"CPz\")\nstream.set_eeg_reference(\"average\")\nstream.info"
      ]
    },
    {
      "cell_type": "markdown",
      "metadata": {},
      "source": [
        "<div class=\"alert alert-info\"><h4>Note</h4><p>As for MNE-Python, methods can be chained, e.g.\n\n```python\nstream.pick(\"eeg\").add_reference_channels(\"CPz\")</p></div>\n```\nThe ring buffer is accessed with the method :meth:`~mne_lsl.stream.StreamLSL.get_data`\nwhich returns both the samples and their associated timestamps. In LSL terminology, a\nsample is an array of shape (n_channels,).\n\n"
      ]
    },
    {
      "cell_type": "code",
      "execution_count": null,
      "metadata": {
        "collapsed": false
      },
      "outputs": [],
      "source": [
        "picks = (\"Fz\", \"Cz\", \"Oz\")  # channel selection\nf, ax = plt.subplots(3, 1, sharex=True, constrained_layout=True)\nfor _ in range(3):  # acquire 3 separate window\n    # figure how many new samples are available, in seconds\n    winsize = stream.n_new_samples / stream.info[\"sfreq\"]\n    # retrieve and plot data\n    data, ts = stream.get_data(winsize, picks=picks)\n    for k, data_channel in enumerate(data):\n        ax[k].plot(ts, data_channel)\n    time.sleep(0.5)\nfor k, ch in enumerate(picks):\n    ax[k].set_title(f\"EEG {ch}\")\nax[-1].set_xlabel(\"Timestamp (LSL time)\")\nplt.show()"
      ]
    },
    {
      "cell_type": "markdown",
      "metadata": {},
      "source": [
        "<div class=\"alert alert-danger\"><h4>Warning</h4><p>Note that the first of the 3 chunks plotted is longer. This is because\n    execution of the channel selection and re-referencing operations took a finite\n    amount of time to complete while in the background, the\n    :class:`~mne_lsl.stream.StreamLSL` was still acquiring new samples. Note also that\n    :py:attr:`~mne_lsl.stream.StreamLSL.n_new_samples` is reset to 0 after each call\n    to :meth:`~mne_lsl.stream.StreamLSL.get_data`, but it is not reset if the \"tail\"\n    pointer overtakes the \"head\" pointer, in other words, it is not reset if the\n    number of new samples since the last :meth:`~mne_lsl.stream.StreamLSL.get_data`\n    call exceeds the buffer size.</p></div>\n\n## Free resources\n\nWhen you are done with a :class:`~mne_lsl.player.PlayerLSL` or\n:class:`~mne_lsl.stream.StreamLSL`, don't forget to free the resources they both use\nto continuously mock an LSL stream or receive new data from an LSL stream.\n\n"
      ]
    },
    {
      "cell_type": "code",
      "execution_count": null,
      "metadata": {
        "collapsed": false
      },
      "outputs": [],
      "source": [
        "stream.disconnect()"
      ]
    },
    {
      "cell_type": "code",
      "execution_count": null,
      "metadata": {
        "collapsed": false
      },
      "outputs": [],
      "source": [
        "player.stop()"
      ]
    }
  ],
  "metadata": {
    "kernelspec": {
      "display_name": "Python 3",
      "language": "python",
      "name": "python3"
    },
    "language_info": {
      "codemirror_mode": {
        "name": "ipython",
        "version": 3
      },
      "file_extension": ".py",
      "mimetype": "text/x-python",
      "name": "python",
      "nbconvert_exporter": "python",
      "pygments_lexer": "ipython3",
      "version": "3.13.2"
    }
  },
  "nbformat": 4,
  "nbformat_minor": 0
}